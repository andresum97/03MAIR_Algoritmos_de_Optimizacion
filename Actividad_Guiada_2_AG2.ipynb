{
  "nbformat": 4,
  "nbformat_minor": 0,
  "metadata": {
    "colab": {
      "provenance": [],
      "authorship_tag": "ABX9TyPXoVm/PNR1iEHoL5iMmpz9",
      "include_colab_link": true
    },
    "kernelspec": {
      "name": "python3",
      "display_name": "Python 3"
    },
    "language_info": {
      "name": "python"
    }
  },
  "cells": [
    {
      "cell_type": "markdown",
      "metadata": {
        "id": "view-in-github",
        "colab_type": "text"
      },
      "source": [
        "<a href=\"https://colab.research.google.com/github/andresum97/03MAIR_algoritmos_de_optimizacion/blob/main/Actividad_Guiada_2_AG2.ipynb\" target=\"_parent\"><img src=\"https://colab.research.google.com/assets/colab-badge.svg\" alt=\"Open In Colab\"/></a>"
      ]
    },
    {
      "cell_type": "markdown",
      "source": [
        "# AG2 - Actividad Guiada 2\n",
        "Nombre: Andrés Urízar\n",
        "\n",
        "Link: https://colab.research.google.com/drive/1Ctn3beIWHK1anmbFmlxBE-JpGuLt5T4B?usp=sharing\n",
        "\n",
        "Github: https://github.com/andresum97/03MAIR_algoritmos_de_optimizacion"
      ],
      "metadata": {
        "id": "YSk9StgSdhFy"
      }
    },
    {
      "cell_type": "code",
      "source": [
        "import math"
      ],
      "metadata": {
        "id": "hP1E12yBd-yb"
      },
      "execution_count": 1,
      "outputs": []
    }
  ]
}