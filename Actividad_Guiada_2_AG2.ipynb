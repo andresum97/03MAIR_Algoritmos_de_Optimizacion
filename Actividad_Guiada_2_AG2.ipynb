{
  "nbformat": 4,
  "nbformat_minor": 0,
  "metadata": {
    "colab": {
      "provenance": [],
      "authorship_tag": "ABX9TyNQAuoyNPgd5UrCAX5BFovi",
      "include_colab_link": true
    },
    "kernelspec": {
      "name": "python3",
      "display_name": "Python 3"
    },
    "language_info": {
      "name": "python"
    }
  },
  "cells": [
    {
      "cell_type": "markdown",
      "metadata": {
        "id": "view-in-github",
        "colab_type": "text"
      },
      "source": [
        "<a href=\"https://colab.research.google.com/github/andresum97/03MAIR_algoritmos_de_optimizacion/blob/main/Actividad_Guiada_2_AG2.ipynb\" target=\"_parent\"><img src=\"https://colab.research.google.com/assets/colab-badge.svg\" alt=\"Open In Colab\"/></a>"
      ]
    },
    {
      "cell_type": "markdown",
      "source": [
        "# AG2 - Actividad Guiada 2\n",
        "Nombre: Andrés Urízar\n",
        "\n",
        "Link: https://colab.research.google.com/drive/1Ctn3beIWHK1anmbFmlxBE-JpGuLt5T4B?usp=sharing\n",
        "\n",
        "Github: https://github.com/andresum97/03MAIR_algoritmos_de_optimizacion"
      ],
      "metadata": {
        "id": "YSk9StgSdhFy"
      }
    },
    {
      "cell_type": "markdown",
      "source": [
        "### Programación dinámica"
      ],
      "metadata": {
        "id": "WeVejSSok6wV"
      }
    },
    {
      "cell_type": "code",
      "source": [
        "import math"
      ],
      "metadata": {
        "id": "hP1E12yBd-yb"
      },
      "execution_count": 1,
      "outputs": []
    },
    {
      "cell_type": "code",
      "source": [
        "#Viaje por el rio\n",
        "\n",
        "TARIFAS = [\n",
        "[0,5,4,3,float(\"inf\"),float(\"inf\"),float(\"inf\")],   #desde nodo 0\n",
        "[float(\"inf\"),0,float(\"inf\"),2,3,float(\"inf\"),11],  #desde nodo 1\n",
        "[float(\"inf\"),float(\"inf\"), 0,1,float(\"inf\"),4,10], #desde nodo 2\n",
        "[float(\"inf\"),float(\"inf\"),float(\"inf\"), 0,5,6,9],\n",
        "[float(\"inf\"),float(\"inf\"), float(\"inf\"),float(\"inf\"),0,float(\"inf\"),4],\n",
        "[float(\"inf\"),float(\"inf\"), float(\"inf\"),float(\"inf\"),float(\"inf\"),0,3],\n",
        "[float(\"inf\"),float(\"inf\"),float(\"inf\"),float(\"inf\"),float(\"inf\"),float(\"inf\"),0]\n",
        "]\n",
        "\n",
        "def Precios(TARIFAS):\n",
        "################################################################ \n",
        "  #Total de Nodos\n",
        "  N = len(TARIFAS[0])\n",
        "  \n",
        "  #Inicialización de la tabla de precios\n",
        "  PRECIOS = [ [9999]*N for i in [9999]*N]  #n x n \n",
        "  RUTA = [ [\"\"]*N for i in [\"\"]*N]\n",
        "  \n",
        "  #Se recorren todos los nodos con dos bucles(origen - destino)\n",
        "  #  para ir construyendo la matriz de PRECIOS\n",
        "  for i in range(N-1):\n",
        "    for j in range(i+1, N):\n",
        "      MIN = TARIFAS[i][j]\n",
        "      RUTA[i][j] = i\n",
        "      \n",
        "      for k in range(i, j):\n",
        "        if PRECIOS[i][k] + TARIFAS[k][j] < MIN:\n",
        "            MIN = min(MIN, PRECIOS[i][k] + TARIFAS[k][j] )\n",
        "            RUTA[i][j] = k\n",
        "        PRECIOS[i][j] = MIN\n",
        "        \n",
        "  return PRECIOS,RUTA\n",
        "\n",
        "PRECIOS, RUTA = Precios(TARIFAS)\n",
        "print(PRECIOS)\n",
        "print(RUTA)"
      ],
      "metadata": {
        "id": "M0u6LJgnfLdN",
        "colab": {
          "base_uri": "https://localhost:8080/"
        },
        "outputId": "3006e480-69e3-47bf-9286-1e21dcd25249"
      },
      "execution_count": 2,
      "outputs": [
        {
          "output_type": "stream",
          "name": "stdout",
          "text": [
            "[[9999, 5, 4, 3, 8, 8, 11], [9999, 9999, inf, 2, 3, 8, 7], [9999, 9999, 9999, 1, 6, 4, 7], [9999, 9999, 9999, 9999, 5, 6, 9], [9999, 9999, 9999, 9999, 9999, inf, 4], [9999, 9999, 9999, 9999, 9999, 9999, 3], [9999, 9999, 9999, 9999, 9999, 9999, 9999]]\n",
            "[['', 0, 0, 0, 1, 2, 5], ['', '', 1, 1, 1, 3, 4], ['', '', '', 2, 3, 2, 5], ['', '', '', '', 3, 3, 3], ['', '', '', '', '', 4, 4], ['', '', '', '', '', '', 5], ['', '', '', '', '', '', '']]\n"
          ]
        }
      ]
    },
    {
      "cell_type": "code",
      "source": [
        "#Calculo de la ruta usando la matriz RUTA\n",
        "def calcular_ruta(RUTA, desde, hasta):\n",
        "  if desde == RUTA[desde][hasta]:\n",
        "    return desde \n",
        "  else:\n",
        "    return str(calcular_ruta(RUTA, desde, RUTA[desde][hasta])) +  ',' + str(RUTA[desde][hasta]) \n",
        "\n",
        "print(\"\\nLa ruta es:\")  \n",
        "calcular_ruta(RUTA, 0,6) "
      ],
      "metadata": {
        "colab": {
          "base_uri": "https://localhost:8080/",
          "height": 73
        },
        "id": "-Shi4UMO7Xcw",
        "outputId": "ef9e1927-7610-415f-8023-e00d86e705af"
      },
      "execution_count": null,
      "outputs": [
        {
          "output_type": "stream",
          "name": "stdout",
          "text": [
            "\n",
            "La ruta es:\n"
          ]
        },
        {
          "output_type": "execute_result",
          "data": {
            "text/plain": [
              "'0,2,5'"
            ],
            "application/vnd.google.colaboratory.intrinsic+json": {
              "type": "string"
            }
          },
          "metadata": {},
          "execution_count": 5
        }
      ]
    },
    {
      "cell_type": "markdown",
      "source": [
        "### Ramificación y Poda"
      ],
      "metadata": {
        "id": "ui71u2JAk_DF"
      }
    },
    {
      "cell_type": "code",
      "source": [
        "#Asignacion de tareas - Ramificación y Poda\n",
        "################################################################################\n",
        "#    T A R E A \n",
        "#   A\n",
        "#   G\n",
        "#   E\n",
        "#   N\n",
        "#   T\n",
        "#   E\n",
        "\n",
        "COSTES=[[11,12,18,40],\n",
        "        [14,15,13,22],\n",
        "        [11,17,19,23],\n",
        "        [17,14,20,28]]\n",
        "        "
      ],
      "metadata": {
        "id": "-ckRKQ0BDCQM"
      },
      "execution_count": 2,
      "outputs": []
    },
    {
      "cell_type": "code",
      "source": [
        "#Calculo del valor de una solucion parcial\n",
        "def valor(S,COSTES):\n",
        "  VALOR = 0\n",
        "  for i in range(len(S)):\n",
        "    VALOR += COSTES[S[i]][i] \n",
        "  return VALOR\n",
        "\n",
        "\n",
        "\n",
        "valor((3,2,  ),COSTES)"
      ],
      "metadata": {
        "colab": {
          "base_uri": "https://localhost:8080/"
        },
        "id": "Bl15JMjfDDnZ",
        "outputId": "315fc04f-818c-45b1-e41e-3f717775ba7e"
      },
      "execution_count": 3,
      "outputs": [
        {
          "output_type": "execute_result",
          "data": {
            "text/plain": [
              "34"
            ]
          },
          "metadata": {},
          "execution_count": 3
        }
      ]
    },
    {
      "cell_type": "code",
      "source": [
        "#Coste inferior para soluciones parciales\n",
        "#  (1,3,) Se asigna la tarea 1 al agente 0 y la tarea 3 al agente 1\n",
        "\n",
        "def CI(S,COSTES):\n",
        "  VALOR = 0\n",
        "  #Valores establecidos\n",
        "  for i in range(len(S)):\n",
        "    VALOR += COSTES[i][S[i]]\n",
        "\n",
        "  #Estimacion\n",
        "  for i in range( len(S), len(COSTES)   ):\n",
        "    VALOR += min( [ COSTES[j][i] for j in range(len(S), len(COSTES))  ])\n",
        "  return VALOR\n",
        "\n",
        "def CS(S,COSTES):\n",
        "  VALOR = 0\n",
        "  #Valores establecidos\n",
        "  for i in range(len(S)):\n",
        "    VALOR += COSTES[i][S[i]]\n",
        "\n",
        "  #Estimacion\n",
        "  for i in range( len(S), len(COSTES)   ):\n",
        "    VALOR += max( [ COSTES[j][i] for j in range(len(S), len(COSTES))  ])\n",
        "  return VALOR\n",
        "\n",
        "CI((0,1),COSTES)"
      ],
      "metadata": {
        "colab": {
          "base_uri": "https://localhost:8080/"
        },
        "id": "e-KHuVUhDHJb",
        "outputId": "198bfdae-84dc-4a02-cab4-339c5cf74293"
      },
      "execution_count": 4,
      "outputs": [
        {
          "output_type": "execute_result",
          "data": {
            "text/plain": [
              "68"
            ]
          },
          "metadata": {},
          "execution_count": 4
        }
      ]
    },
    {
      "cell_type": "code",
      "source": [
        "#Genera tantos hijos como como posibilidades haya para la siguiente elemento de la tupla\n",
        "#(0,) -> (0,1), (0,2), (0,3)\n",
        "def crear_hijos(NODO, N):\n",
        "  HIJOS = []\n",
        "  for i in range(N ):\n",
        "    if i not in NODO:\n",
        "      HIJOS.append({'s':NODO +(i,)    })\n",
        "  return HIJOS"
      ],
      "metadata": {
        "id": "YgDymwWnDKeb"
      },
      "execution_count": 5,
      "outputs": []
    },
    {
      "cell_type": "code",
      "source": [
        "crear_hijos((0,) , 4)"
      ],
      "metadata": {
        "id": "nU4dz2HyDM27",
        "outputId": "5185c034-2f3d-42e6-8dc0-4af5daf5f38a",
        "colab": {
          "base_uri": "https://localhost:8080/"
        }
      },
      "execution_count": 6,
      "outputs": [
        {
          "output_type": "execute_result",
          "data": {
            "text/plain": [
              "[{'s': (0, 1)}, {'s': (0, 2)}, {'s': (0, 3)}]"
            ]
          },
          "metadata": {},
          "execution_count": 6
        }
      ]
    },
    {
      "cell_type": "code",
      "source": [
        "def ramificacion_y_poda(COSTES):\n",
        "#Construccion iterativa de soluciones(arbol). En cada etapa asignamos un agente(ramas).\n",
        "#Nodos del grafo  { s:(1,2),CI:3,CS:5  }\n",
        "  DIMENSION = len(COSTES)  \n",
        "  MEJOR_SOLUCION=tuple( i for i in range(len(COSTES)) )\n",
        "  CotaSup = valor(MEJOR_SOLUCION,COSTES)\n",
        "\n",
        "\n",
        "  NODOS=[]\n",
        "  NODOS.append({'s':(), 'ci':CI((),COSTES)    } )\n",
        "\n",
        "  iteracion = 0\n",
        "\n",
        "  while( len(NODOS) > 0):\n",
        "    iteracion +=1\n",
        "\n",
        "    nodo_prometedor = [ min(NODOS, key=lambda x:x['ci']) ][0]['s']\n",
        "\n",
        "    #Ramificacion\n",
        "    #Se generan los hijos\n",
        "    HIJOS =[ {'s':x['s'], 'ci':CI(x['s'], COSTES)   } for x in crear_hijos(nodo_prometedor, DIMENSION) ]\n",
        "\n",
        "    #Revisamos la cota superior y nos quedamos con la mejor solucion si llegamos a una solucion final\n",
        "    NODO_FINAL = [x for x in HIJOS if len(x['s']) == DIMENSION  ]\n",
        "    if len(NODO_FINAL ) >0: \n",
        "      if NODO_FINAL[0]['ci'] < CotaSup:\n",
        "        CotaSup = NODO_FINAL[0]['ci']\n",
        "        MEJOR_SOLUCION = NODO_FINAL\n",
        " \n",
        "    #Poda\n",
        "    HIJOS = [x for x in HIJOS if x['ci'] < CotaSup   ]\n",
        "\n",
        "    #Añadimos los hijos \n",
        "    NODOS.extend(HIJOS) \n",
        "\n",
        "    #Eliminamos el nodo ramificado\n",
        "    NODOS =  [  x for x in NODOS if x['s'] != nodo_prometedor    ]\n",
        "   \n",
        "  print(\"La solucion final es:\" ,MEJOR_SOLUCION , \" en \" , iteracion , \" iteraciones\" , \" para dimension: \" ,DIMENSION  )\n",
        "      \n",
        "\n",
        "\n",
        "ramificacion_y_poda(COSTES)"
      ],
      "metadata": {
        "id": "sUreDbEzDOA6",
        "outputId": "e249f9fe-05e3-4411-d998-07cd6da6c226",
        "colab": {
          "base_uri": "https://localhost:8080/"
        }
      },
      "execution_count": 7,
      "outputs": [
        {
          "output_type": "stream",
          "name": "stdout",
          "text": [
            "La solucion final es: [{'s': (1, 2, 0, 3), 'ci': 64}]  en  10  iteraciones  para dimension:  4\n"
          ]
        }
      ]
    },
    {
      "cell_type": "markdown",
      "source": [
        "### Algoritmo Fuerza Bruta"
      ],
      "metadata": {
        "id": "8jAy5dg7UxxV"
      }
    },
    {
      "cell_type": "code",
      "source": [
        "#Algoritmo de Fuerza Bruta\n",
        "from itertools import permutations\n",
        "\n",
        "def fuerza_bruta(costes):\n",
        "  n = len(costes)\n",
        "  cost = 9999999\n",
        "  s = []\n",
        "  combinations = list(permutations([i for i in range(n)]))\n",
        "  for element in combinations:\n",
        "    cost_temp = 0\n",
        "    for idx, value in enumerate(element):\n",
        "      cost_temp += costes[idx][value]\n",
        "\n",
        "    if cost_temp < cost:\n",
        "      cost = cost_temp\n",
        "      s = element\n",
        "\n",
        "  return [{'s': s, 'ci': cost}]\n",
        "\n",
        "\n",
        "res = fuerza_bruta(COSTES)\n",
        "res"
      ],
      "metadata": {
        "colab": {
          "base_uri": "https://localhost:8080/"
        },
        "id": "NZYQbV-U4gQ_",
        "outputId": "c34de8b5-9cd5-48c7-cb99-3068645c8e55"
      },
      "execution_count": 8,
      "outputs": [
        {
          "output_type": "execute_result",
          "data": {
            "text/plain": [
              "[{'s': (0, 2, 3, 1), 'ci': 61}]"
            ]
          },
          "metadata": {},
          "execution_count": 8
        }
      ]
    },
    {
      "cell_type": "code",
      "source": [
        "# Valores aleatorios\n",
        "from random import randint\n",
        "from timeit import default_timer as timer\n",
        "from tabulate import tabulate\n",
        "\n",
        "COSTES_5 = [[randint(10,40) for _ in range(5)] for _ in range(5)]\n",
        "COSTES_6 = [[randint(10,40) for _ in range(6)] for _ in range(6)]\n",
        "COSTES_7 = [[randint(10,40) for _ in range(7)] for _ in range(7)]\n",
        "COSTES_8 = [[randint(10,40) for _ in range(8)] for _ in range(8)]\n",
        "COSTES_10 = [[randint(10,40) for _ in range(10)] for _ in range(10)]\n",
        "COSTES_12 = [[randint(10,40) for _ in range(12)] for _ in range(12)]\n",
        "COSTES_13 = [[randint(10,40) for _ in range(13)] for _ in range(13)]"
      ],
      "metadata": {
        "id": "lEIgEhqLU6lm"
      },
      "execution_count": 9,
      "outputs": []
    },
    {
      "cell_type": "code",
      "source": [
        "tiempos = [\n",
        "    ['Costos', 'Tiempo Fuerza Bruta', 'Tiempo Ramificacion y Poda'],\n",
        "    ['5'],\n",
        "    ['6'],\n",
        "    ['7'],\n",
        "    ['8'],\n",
        "    ['10'],\n",
        "    ['12'],\n",
        "    ['13']\n",
        "]\n",
        "\n",
        "\n",
        "# fUERZA BRUTA\n",
        "# 5\n",
        "start = timer()\n",
        "fuerza_bruta(COSTES_5)\n",
        "end = timer()\n",
        "tiempos[1].append(end - start)\n",
        "\n",
        "# 6\n",
        "start = timer()\n",
        "fuerza_bruta(COSTES_6)\n",
        "end = timer()\n",
        "tiempos[2].append(end - start)\n",
        "\n",
        "# 7\n",
        "start = timer()\n",
        "fuerza_bruta(COSTES_7)\n",
        "end = timer()\n",
        "tiempos[3].append(end - start)\n",
        "\n",
        "# 8\n",
        "start = timer()\n",
        "fuerza_bruta(COSTES_8)\n",
        "end = timer()\n",
        "tiempos[4].append(end - start)\n",
        "\n",
        "# 10\n",
        "start = timer()\n",
        "fuerza_bruta(COSTES_10)\n",
        "end = timer()\n",
        "tiempos[5].append(end - start)\n",
        "\n",
        "# 12\n",
        "# start = timer()\n",
        "# fuerza_bruta(COSTES_12)\n",
        "# end = timer()\n",
        "tiempos[6].append('na')\n",
        "\n",
        "# 13\n",
        "# start = timer()\n",
        "# fuerza_bruta(COSTES_12)\n",
        "# end = timer()\n",
        "tiempos[7].append('na')\n",
        "\n",
        "\n",
        "# RAMIFICACION Y PODA\n",
        "# 5\n",
        "start = timer()\n",
        "ramificacion_y_poda(COSTES_5)\n",
        "end = timer()\n",
        "tiempos[1].append(end - start)\n",
        "\n",
        "# 6\n",
        "start = timer()\n",
        "ramificacion_y_poda(COSTES_6)\n",
        "end = timer()\n",
        "tiempos[2].append(end - start)\n",
        "\n",
        "# 7\n",
        "start = timer()\n",
        "ramificacion_y_poda(COSTES_7)\n",
        "end = timer()\n",
        "tiempos[3].append(end - start)\n",
        "\n",
        "# 8\n",
        "start = timer()\n",
        "ramificacion_y_poda(COSTES_8)\n",
        "end = timer()\n",
        "tiempos[4].append(end - start)\n",
        "\n",
        "# 10\n",
        "start = timer()\n",
        "ramificacion_y_poda(COSTES_10)\n",
        "end = timer()\n",
        "tiempos[5].append(end - start)\n",
        "\n",
        "# 12\n",
        "start = timer()\n",
        "ramificacion_y_poda(COSTES_12)\n",
        "end = timer()\n",
        "tiempos[6].append(end - start)\n",
        "\n",
        "# 13\n",
        "start = timer()\n",
        "ramificacion_y_poda(COSTES_13)\n",
        "end = timer()\n",
        "tiempos[7].append(end - start)\n",
        "\n",
        "\n",
        "print(tabulate(tiempos, headers='firstrow', tablefmt='grid'))"
      ],
      "metadata": {
        "colab": {
          "base_uri": "https://localhost:8080/"
        },
        "id": "oBe-l4d9XQ1p",
        "outputId": "84160654-d1ac-4141-89bd-2c4501dbb0ad"
      },
      "execution_count": 12,
      "outputs": [
        {
          "output_type": "stream",
          "name": "stdout",
          "text": [
            "La solucion final es: [{'s': (2, 4, 1, 3, 0), 'ci': 78}]  en  50  iteraciones  para dimension:  5\n",
            "La solucion final es: [{'s': (0, 4, 2, 3, 5, 1), 'ci': 91}]  en  419  iteraciones  para dimension:  6\n",
            "La solucion final es: [{'s': (0, 2, 3, 6, 1, 4, 5), 'ci': 104}]  en  90  iteraciones  para dimension:  7\n",
            "La solucion final es: [{'s': (5, 4, 2, 7, 1, 0, 6, 3), 'ci': 131}]  en  792  iteraciones  para dimension:  8\n",
            "La solucion final es: [{'s': (8, 2, 0, 3, 6, 1, 5, 4, 9, 7), 'ci': 118}]  en  25342  iteraciones  para dimension:  10\n",
            "La solucion final es: [{'s': (2, 3, 4, 7, 0, 11, 10, 9, 5, 1, 6, 8), 'ci': 147}]  en  575  iteraciones  para dimension:  12\n",
            "La solucion final es: [{'s': (2, 6, 0, 4, 5, 9, 1, 12, 8, 10, 7, 11, 3), 'ci': 164}]  en  33887  iteraciones  para dimension:  13\n",
            "+----------+------------------------+------------------------------+\n",
            "|   Costos | Tiempo Fuerza Bruta    |   Tiempo Ramificacion y Poda |\n",
            "+==========+========================+==============================+\n",
            "|        5 | 0.00022957300006964942 |                   0.00213046 |\n",
            "+----------+------------------------+------------------------------+\n",
            "|        6 | 0.004296894000617613   |                   0.0214262  |\n",
            "+----------+------------------------+------------------------------+\n",
            "|        7 | 0.007012758999735524   |                   0.00668494 |\n",
            "+----------+------------------------+------------------------------+\n",
            "|        8 | 0.05926847699993232    |                   0.071081   |\n",
            "+----------+------------------------+------------------------------+\n",
            "|       10 | 5.659549792000689      |                  62.2537     |\n",
            "+----------+------------------------+------------------------------+\n",
            "|       12 | na                     |                   0.0623639  |\n",
            "+----------+------------------------+------------------------------+\n",
            "|       13 | na                     |                 147.299      |\n",
            "+----------+------------------------+------------------------------+\n"
          ]
        }
      ]
    },
    {
      "cell_type": "markdown",
      "source": [
        "Se hicieron multiples pruebas para esta parte, con varias matrices de diferentes dimensiones, el tiempo solo fue para ver si habia una diferencia significativa entre algoritmos. El problema fue que con valores muy altos de dimensión Google Colab se trababa por su RAM. Sin embargo se pudieron hacer distintas pruebas donde se comprobó que luego de la dimensión 10 fuerza bruta ya se era muy complicado de manejar, entonces se asume que ese es su limite, mientras que con ramificación y poda, este fue tuvo un mayor rango de la dimensión, que fue 12. Por lo que se puede ver en la tabla, depende mucho de la cantidad de iteraciones, como se ve con 10 que realizó una enorme cantidad de iteraciones, pero luego de 12 el valor subió demasiado, pasando los 2 minutos de tiempo, indicando que ya para esta dimensión podría ser el limite de una opción válida.\n",
        "\n",
        "En conclusión:\n",
        "\n",
        "**Límite de dimensión fuerza bruta**: 10\n",
        "\n",
        "**Límite de dimensión ramificación y poda**: 12"
      ],
      "metadata": {
        "id": "OPB2gCkJeCx_"
      }
    }
  ]
}