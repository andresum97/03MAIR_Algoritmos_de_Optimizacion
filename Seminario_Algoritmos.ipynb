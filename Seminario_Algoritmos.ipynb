{
  "nbformat": 4,
  "nbformat_minor": 0,
  "metadata": {
    "colab": {
      "provenance": [],
      "authorship_tag": "ABX9TyODiE8eTyJuvhIu5BKwz/s9",
      "include_colab_link": true
    },
    "kernelspec": {
      "name": "python3",
      "display_name": "Python 3"
    },
    "language_info": {
      "name": "python"
    }
  },
  "cells": [
    {
      "cell_type": "markdown",
      "metadata": {
        "id": "view-in-github",
        "colab_type": "text"
      },
      "source": [
        "<a href=\"https://colab.research.google.com/github/andresum97/03MAIR_algoritmos_de_optimizacion/blob/main/Seminario_Algoritmos.ipynb\" target=\"_parent\"><img src=\"https://colab.research.google.com/assets/colab-badge.svg\" alt=\"Open In Colab\"/></a>"
      ]
    },
    {
      "cell_type": "markdown",
      "source": [
        "# Algoritmos de optimización - Seminario<br>\n",
        "Nombre y Apellidos:   Andrés Urízar Mancía\n",
        "\n",
        "Url: https://github.com/andresum97/03MAIR_algoritmos_de_optimizacion/tree/main/SEMINARIO\n",
        "\n",
        "Problema:\n",
        "> Combinar cifras y operaciones\n",
        "\n",
        "Descripción del problema:\n",
        "\n",
        "* El problema consiste en analizar el siguiente problema y diseñar un algoritmo que lo resuelva.\n",
        "* Disponemos de las 9 cifras del 1 al 9 (excluimos el cero) y de los 4 signos básicos de las\n",
        "operaciones fundamentales: suma(+), resta(-), multiplicación(*) y división(/)\n",
        "* Debemos combinarlos alternativamente sin repetir ninguno de ellos para obtener una cantidad\n",
        "dada\n"
      ],
      "metadata": {
        "id": "KOOM3ggKreEn"
      }
    },
    {
      "cell_type": "markdown",
      "source": [
        "(*)¿Cuantas posibilidades hay sin tener en cuenta las restricciones?\n",
        "\n",
        "¿Cuantas posibilidades hay teniendo en cuenta todas las restricciones.\n"
      ],
      "metadata": {
        "id": "6fe1Zlwas6gL"
      }
    },
    {
      "cell_type": "markdown",
      "source": [
        "Respuesta"
      ],
      "metadata": {
        "id": "mujkgnZVynRh"
      }
    },
    {
      "cell_type": "markdown",
      "source": [
        "1. Las probabilidades sin tener en cuenta restricciones son \n",
        "2. Las posibilidades teniendo en cuenta las reestricciones son 120, debido que se tienen 5 elementos de números sin repetición (5! = 120), y en el caso de las operaciones se tiene que es una permutación sin repetición de 4 operadores, lo cual es 4! = 24. Entonces al momento de juntar las posibilidades da un valor de 2800 posibilidades."
      ],
      "metadata": {
        "id": "oMnNDOEqyp8p"
      }
    },
    {
      "cell_type": "markdown",
      "source": [
        "Modelo para el espacio de soluciones<br>\n",
        "(*) ¿Cual es la estructura de datos que mejor se adapta al problema? Argumentalo.(Es posible que hayas elegido una al principio y veas la necesidad de cambiar, arguentalo)\n"
      ],
      "metadata": {
        "id": "r194MQG9yxWB"
      }
    },
    {
      "cell_type": "markdown",
      "source": [
        "Respuesta"
      ],
      "metadata": {
        "id": "q26IjK15y22o"
      }
    },
    {
      "cell_type": "markdown",
      "source": [
        "En este caso inicial, pensaria en un árbol como estructura de datos debido que al tener valores númericos y operaciones, donde los \"padres\" serían los simbolos aritemticos, y de hijo tienen los valores númericos y ahi ya se puede hacer un estimado del resultado entre dos valores númericos y observar cual es el mejor resultado.\n",
        "\n"
      ],
      "metadata": {
        "id": "qlbT_dQEy4yw"
      }
    },
    {
      "cell_type": "markdown",
      "source": [
        "Según el modelo para el espacio de soluciones<br>\n",
        "(*)¿Cual es la función objetivo?\n",
        "\n",
        "(*)¿Es un problema de maximización o minimización?"
      ],
      "metadata": {
        "id": "5MUqm8UBJAka"
      }
    },
    {
      "cell_type": "markdown",
      "source": [
        "Respuesta"
      ],
      "metadata": {
        "id": "GnjnVW3VJB9a"
      }
    },
    {
      "cell_type": "markdown",
      "source": [
        "* La función objetivo es encontrar el valor máximo que se puede realizar en la combinación de valores númericos al ponerlos en una determinada operación con otro valor numérico. \n",
        "\n",
        "* Se podría catalogar como un problema de maximación, debido que se intenta encontrar el valor máximo de la operación."
      ],
      "metadata": {
        "id": "9uc1ckxLJD4K"
      }
    },
    {
      "cell_type": "markdown",
      "source": [
        "Diseña un algoritmo por fuerza bruta"
      ],
      "metadata": {
        "id": "Luo_r4z-NS4G"
      }
    },
    {
      "cell_type": "markdown",
      "source": [
        "Respuesta"
      ],
      "metadata": {
        "id": "koDoXjaENW3F"
      }
    },
    {
      "cell_type": "markdown",
      "source": [
        "### Algoritmo por fuerza bruta\n"
      ],
      "metadata": {
        "id": "BF3fCdSrNbmm"
      }
    },
    {
      "cell_type": "code",
      "source": [
        "from itertools import permutations"
      ],
      "metadata": {
        "id": "DKHRuzy2YHR5"
      },
      "execution_count": null,
      "outputs": []
    },
    {
      "cell_type": "code",
      "source": [
        "temp = []\n",
        "ans = []\n",
        "valores = []\n",
        "\n",
        "# Funcion para generar la lista de todas las probabidades de valores de n numeros\n",
        "# en k grupos\n",
        "def generar_valores_lista(n, restante, k):\n",
        "    if (k==0):\n",
        "        ans.append(temp)\n",
        "        t = []\n",
        "        for i in range(len(temp)):\n",
        "          t.append(temp[i])\n",
        "        valores.append(t)\n",
        "        return\n",
        "\n",
        "    for i in range(restante, n+1):\n",
        "      temp.append(i)\n",
        "      generar_valores_lista(n, i+1, k-1)\n",
        "      temp.pop()\n",
        "\n",
        "# Para manejar funcion inicial\n",
        "def generar_valores(n,k):\n",
        "  generar_valores_lista(n,1,k)\n",
        "  return valores\n"
      ],
      "metadata": {
        "id": "UV76QqsxeqOW"
      },
      "execution_count": 2,
      "outputs": []
    },
    {
      "cell_type": "code",
      "source": [
        "_lista = list(permutations([\"-\",\"+\",\"/\",\"*\"]))\n",
        "print(_lista)\n",
        "operandos_lista = [elem+(\"\",) for elem in _lista]\n",
        "print(operandos_lista)"
      ],
      "metadata": {
        "colab": {
          "base_uri": "https://localhost:8080/"
        },
        "id": "iFZy4U51YQiw",
        "outputId": "6b431c83-3ce2-40e3-f4f1-b4e0977d41fe"
      },
      "execution_count": 3,
      "outputs": [
        {
          "output_type": "stream",
          "name": "stdout",
          "text": [
            "[('-', '+', '/', '*'), ('-', '+', '*', '/'), ('-', '/', '+', '*'), ('-', '/', '*', '+'), ('-', '*', '+', '/'), ('-', '*', '/', '+'), ('+', '-', '/', '*'), ('+', '-', '*', '/'), ('+', '/', '-', '*'), ('+', '/', '*', '-'), ('+', '*', '-', '/'), ('+', '*', '/', '-'), ('/', '-', '+', '*'), ('/', '-', '*', '+'), ('/', '+', '-', '*'), ('/', '+', '*', '-'), ('/', '*', '-', '+'), ('/', '*', '+', '-'), ('*', '-', '+', '/'), ('*', '-', '/', '+'), ('*', '+', '-', '/'), ('*', '+', '/', '-'), ('*', '/', '-', '+'), ('*', '/', '+', '-')]\n",
            "[('-', '+', '/', '*', ''), ('-', '+', '*', '/', ''), ('-', '/', '+', '*', ''), ('-', '/', '*', '+', ''), ('-', '*', '+', '/', ''), ('-', '*', '/', '+', ''), ('+', '-', '/', '*', ''), ('+', '-', '*', '/', ''), ('+', '/', '-', '*', ''), ('+', '/', '*', '-', ''), ('+', '*', '-', '/', ''), ('+', '*', '/', '-', ''), ('/', '-', '+', '*', ''), ('/', '-', '*', '+', ''), ('/', '+', '-', '*', ''), ('/', '+', '*', '-', ''), ('/', '*', '-', '+', ''), ('/', '*', '+', '-', ''), ('*', '-', '+', '/', ''), ('*', '-', '/', '+', ''), ('*', '+', '-', '/', ''), ('*', '+', '/', '-', ''), ('*', '/', '-', '+', ''), ('*', '/', '+', '-', '')]\n"
          ]
        }
      ]
    },
    {
      "cell_type": "code",
      "source": [
        "def encontrar_maximo_fb():\n",
        "  operacion_max = \"\"\n",
        "  res_max = -9999\n",
        "  _lista = list(permutations([\"-\",\"+\",\"/\",\"*\"]))\n",
        "  operandos_lista = [elem+(\"\",) for elem in _lista]\n",
        "  valores = generar_valores(9,5)\n",
        "  for operandos in operandos_lista:\n",
        "    for numeros in valores:\n",
        "      temp = \"\"\n",
        "      for i in range(5):\n",
        "        temp += f'{numeros[i]}{operandos[i]}'\n",
        "      \n",
        "      temp_eval = eval(temp)\n",
        "      # print(\"temp -> \", temp, \"val \", temp_eval)\n",
        "      if temp_eval > res_max:\n",
        "        operacion_max = temp\n",
        "        res_max = temp_eval\n",
        "    \n",
        "  return operacion_max, str(round(res_max,2))\n",
        "\n",
        "res, val = encontrar_maximo_fb()\n",
        "print(res, val)"
      ],
      "metadata": {
        "colab": {
          "base_uri": "https://localhost:8080/"
        },
        "id": "JTbw_flTNYGL",
        "outputId": "28ff9f75-9db6-4937-f413-597148d59bcb"
      },
      "execution_count": null,
      "outputs": [
        {
          "output_type": "stream",
          "name": "stdout",
          "text": [
            "5-6/7+8*9 76.14\n"
          ]
        }
      ]
    },
    {
      "cell_type": "markdown",
      "source": [
        "378\n",
        "1-2+7/8*9 6.88"
      ],
      "metadata": {
        "id": "XAhS05ynZ1iU"
      }
    },
    {
      "cell_type": "markdown",
      "source": [
        "Calcula la complejidad del algoritmo por fuerza bruta"
      ],
      "metadata": {
        "id": "Dh1G73sHL3W1"
      }
    },
    {
      "cell_type": "markdown",
      "source": [
        "Respuesta"
      ],
      "metadata": {
        "id": "ac6SYhmlL7xC"
      }
    },
    {
      "cell_type": "markdown",
      "source": [
        "La complejidad del algoritmo es O(n^2)\n",
        "\n"
      ],
      "metadata": {
        "id": "rbHFxJOQMS75"
      }
    },
    {
      "cell_type": "markdown",
      "source": [
        "### Algoritmo mejorado"
      ],
      "metadata": {
        "id": "fOYAlfQqOKH8"
      }
    },
    {
      "cell_type": "markdown",
      "source": [
        "(*)Diseña un algoritmo que mejore la complejidad del algortimo por fuerza bruta. Argumenta porque crees que mejora el algoritmo por fuerza bruta"
      ],
      "metadata": {
        "id": "xYjIQb_lOHaN"
      }
    },
    {
      "cell_type": "markdown",
      "source": [
        "Respuesta"
      ],
      "metadata": {
        "id": "SQRPwMGvOOF8"
      }
    },
    {
      "cell_type": "code",
      "source": [
        "# Se va a realizar un algoritmo genetivco\n",
        "from random import randint, uniform, choice\n",
        "\n",
        "# Crea permutaciones de signos\n",
        "def poblacion_signos():\n",
        "  _lista = list(permutations([\"-\",\"+\",\"/\",\"*\"]))\n",
        "  operandos_lista = [list(elem+(\"\",)) for elem in _lista]\n",
        "  return operandos_lista\n",
        "\n",
        "# Crea una poblacion, dependiendo la cantidad especifica y de cuantos elementos\n",
        "# se quiere que sean las caracteristicas de los individuos (cuantos valores numericos hay)\n",
        "def crear_poblacion_inicial(num_poblacion, cromosomas):\n",
        "  opciones_signos = poblacion_signos() #Genera permutacion de signos\n",
        "  opciones_valores = generar_valores(9,cromosomas) # Genera permutacion de valores\n",
        "  poblacion_inicial = []\n",
        "  # Crea la cantidad de la poblacion, al juntar elementos de valores y de signos\n",
        "  for i in range(num_poblacion):\n",
        "    idx_signos = randint(0,len(opciones_signos)-1)\n",
        "    idx_valores = randint(0,len(opciones_valores)-1)\n",
        "    temp = [opciones_valores.pop(idx_valores), opciones_signos.pop(idx_signos)]\n",
        "    poblacion_inicial.append(temp)\n",
        "\n",
        "  return poblacion_inicial\n",
        "\n",
        "# Calculo de fitness donde se calcula el eval de la expresion\n",
        "def fitness(poblacion):\n",
        "  aptitud = [0 for _ in range(len(poblacion))]\n",
        "  # Calcular aptitudes con funcion eval por individuos\n",
        "  for idx,individuo in enumerate(poblacion):\n",
        "    valores = individuo[0]\n",
        "    operandos = individuo[1]\n",
        "    temp = \"\"\n",
        "    # Crear el string de la operacion\n",
        "    for i in range(len(valores)):\n",
        "      temp += f'{valores[i]}{operandos[i]}'\n",
        "\n",
        "    # Realiza la evaluacion\n",
        "    temp_eval = eval(temp)\n",
        "    aptitud[idx]  = temp_eval\n",
        "\n",
        "  return aptitud\n",
        "\n",
        "# Devuelve el fitness de un solo individuo\n",
        "def fitness_por_individuo(individuo):\n",
        "  valores = individuo[0]\n",
        "  operandos = individuo[1]\n",
        "  temp = \"\"\n",
        "  for i in range(len(valores)):\n",
        "    temp += f'{valores[i]}{operandos[i]}'\n",
        "  \n",
        "  return eval(temp)\n",
        "\n",
        "# Se selecciona al 70% de los mejores individuos\n",
        "def seleccion(poblacion, fitness):\n",
        "  porcentaje = int(len(poblacion)*.70) #Obtiene cantidad de elementos equivalentes a 70%\n",
        "  individuos = [(poblacion[i], fitness[i]) for i in range(len(poblacion))] #Crea lista de tuplas de (individuos, fitness)\n",
        "  individuos.sort(key=lambda a: a[1]) #Ordena por mayor fitness\n",
        "  mejores = individuos[-porcentaje:] # Obtiene el 70% de los mejores individuos\n",
        "  mejores = [element[0] for element in mejores] \n",
        "  return mejores\n",
        "\n",
        "# Funcion que crea los hijos al juntar padres\n",
        "def crossover(padres, num_hijos, max_fitness):\n",
        "  hijos = []\n",
        "\n",
        "  for i in range(int(num_hijos/2)):\n",
        "    #Indices de los padres\n",
        "    idx1 = i%len(padres)\n",
        "    idx2 = (i+1)%len(padres)\n",
        "    \n",
        "    # print('###########')\n",
        "    # print('Padre 1', idx1)\n",
        "    # print('Padre 2', idx2)\n",
        "    # print('###########')\n",
        "\n",
        "    # Se seleccionan a los padres\n",
        "\n",
        "    padre1 = padres[idx1].copy()\n",
        "    padre2 = padres[idx2].copy()\n",
        "\n",
        "    # print('###########')\n",
        "    # print('Padre 1', padre1)\n",
        "    # print('Padre 2', padre2)\n",
        "    # print('###########')\n",
        "\n",
        "    # Se realiza intercambio de valores en caso tenga un valor menor al maximo fitness\n",
        "\n",
        "    hijo1 = [padre1[0], padre2[1]] if (fitness_por_individuo(padre1) < max_fitness) else padre1\n",
        "    hijo2 = [padre2[0], padre1[1]] if (fitness_por_individuo(padre2) < max_fitness) else padre2\n",
        "\n",
        "    # print('###########')\n",
        "    # print('hijo 1', hijo1)\n",
        "    # print('hijo 2', hijo2)\n",
        "    # print('###########')\n",
        "\n",
        "    hijos.append(hijo1)\n",
        "    hijos.append(hijo2)\n",
        "  \n",
        "\n",
        "  # Revisar si no hay hijos repetidos, en caso haya reemplaza un \n",
        "  # individuo de manera aleatoria por una de la lista de permutaciones\n",
        "  for idx in range(len(hijos)):\n",
        "    for jdx in range(idx,len(hijos)):\n",
        "      if hijos[idx] == hijos[jdx] and idx != jdx:\n",
        "        hijos[jdx] = crear_poblacion_inicial(1, 5)[0]\n",
        "\n",
        "  return hijos\n",
        "\n",
        "# Funcion que permite mutar a un individuo dependiendo de un porcentaje\n",
        "def mutacion(individuo, radio_mutacion):\n",
        "  # Verificar si el individuo va a mutar o no, por medio de un porcentaje ingresado\n",
        "  if uniform(0,1) < radio_mutacion:\n",
        "    idx = randint(0,1) #Indice que indica si se modifican numeros o signos\n",
        "    if idx == 0: # Se cambiara valor numerico\n",
        "      valor_nuevo = choice([x for x in range(9) if x not in individuo[0] and x != 0])\n",
        "      individuo[0][randint(0,len(individuo[0])-1)] = valor_nuevo  #Se guarda valor nuevo\n",
        "    elif idx == 1:\n",
        "      # Verifica que no haya individuos repetidos al momento de mutar los signos\n",
        "      while True:\n",
        "        a,b = randint(0,3), randint(0,3)\n",
        "        if a != b:\n",
        "          break\n",
        "      individuo[1][b], individuo[1][a] = individuo[1][a], individuo[1][b]\n",
        "    \n",
        "    # print('nuevo individuo', individuo)\n",
        "\n",
        "  return individuo\n",
        "\n",
        "# Devuelve el maximo fitness de un individuo de una poblacion\n",
        "def obtener_max_fitness(poblacion):\n",
        "  fitness_finales = fitness(poblacion)\n",
        "  individuos = [(poblacion[i], fitness_finales[i]) for i in range(len(poblacion))]\n",
        "  individuos.sort(key=lambda a: a[1])\n",
        "  mejor = individuos[-1]\n",
        "  return mejor[1], mejor[0]\n",
        "\n",
        "# Algoritmo genetico\n",
        "def encontrar_maximo():\n",
        "  #Parametros de la poblacion\n",
        "  num_poblacion = 10\n",
        "  cromosomas = 5\n",
        "  generacion_min = 3\n",
        "  valores = [i for i in range(1,10)]\n",
        "  poblacion = []\n",
        " \n",
        "  # Se crea la poblacion inicial\n",
        "  poblacion = crear_poblacion_inicial(num_poblacion, cromosomas)\n",
        "  mayor_fitness, _ = obtener_max_fitness(poblacion)\n",
        "  fit_init = mayor_fitness\n",
        "  print(\"Poblacion inicial \", poblacion, \"len -> \", len(poblacion))\n",
        "  encontro_mayor = False\n",
        "  cont = 0\n",
        "  while not(encontro_mayor):\n",
        "    print(\"##################\")\n",
        "    print(\"Generacion \", cont)\n",
        "\n",
        "    # Se realiza el fitness de la poblacion\n",
        "    fitness_inicial = fitness(poblacion)\n",
        "\n",
        "    # print(\"Fitness poblacion \", fitness_inicial, \"len -> \", len(fitness_inicial))\n",
        "    # print(fitness_inicial)\n",
        "    \n",
        "    # Se realiza la seleccion utilizando los fitness de los individuos\n",
        "    seleccion_ = seleccion(poblacion.copy(), fitness_inicial)\n",
        "    print(\"Padres            \", seleccion_, \"len -> \", len(seleccion_))\n",
        "\n",
        "    # Se realiza el crossover para crear la siguiente generacion\n",
        "    hijos = crossover(seleccion_, num_poblacion, mayor_fitness)\n",
        "    print(\"hijos             \", hijos, \"len -> \", len(hijos))\n",
        "  \n",
        "    # Se pasa por un filtrado a los hijos para permitir que muten\n",
        "    for hijo in hijos:\n",
        "      hijo = mutacion(hijo.copy(), 0.20)\n",
        "\n",
        "    print(\"Hijos mutados     \", hijos,\"len -> \", len(hijos))\n",
        "    # Se reemplaza la poblacion\n",
        "    poblacion = hijos.copy()\n",
        "    print(\"##################\")\n",
        "    # Se compara si esta generacion es mejor a sus predecesoras\n",
        "    fitness_actual, _ = obtener_max_fitness(poblacion)\n",
        "    mayor_fitness = fitness_actual if fitness_actual > mayor_fitness else mayor_fitness\n",
        "    # print(\"Mayor  \", mayor_fitness)\n",
        "\n",
        "    # En caso haya cumplido con un minimo de generaciones y tenga un buen resultado\n",
        "    # finaliza el ciclo\n",
        "    if (cont >= generacion_min) and mayor_fitness > fit_init:\n",
        "      encontro_mayor = True\n",
        "\n",
        "    # En caso no haya realiza el minimo de generacion, solo guarda el fitness para revision\n",
        "    elif (cont < generacion_min):\n",
        "      # print(\"Inicial \", fitness_inicial)\n",
        "      # print(\"Final \", mayor_fitness)\n",
        "      fit_init = mayor_fitness if mayor_fitness > fit_init else fit_init\n",
        "\n",
        "    # En caso el resultado ya no puede mejorar mas y se dieron mas de 6 vueltas que el minimo\n",
        "    # de vueltas permitidas, se para la creacion de generaciones\n",
        "    elif (cont - generacion_min == 6):\n",
        "      encontro_mayor = True\n",
        "    cont += 1\n",
        "\n",
        "  mejor, individuo = obtener_max_fitness(poblacion)\n",
        "  # fitness_finales = fitness(poblacion)\n",
        "  # individuos = [(poblacion[i], fitness_finales[i]) for i in range(len(poblacion))]\n",
        "  # individuos.sort(key=lambda a: a[1])\n",
        "  # print(individuos)\n",
        "  # mejor = individuos[-1]\n",
        "  print(\"Mejor individuo => \", individuo)\n",
        "  print(\"Mejor fitness => \", mejor)\n",
        "\n",
        "encontrar_maximo()"
      ],
      "metadata": {
        "id": "mtImhCnGMd-x",
        "colab": {
          "base_uri": "https://localhost:8080/"
        },
        "outputId": "6a1dae46-f32d-4ef4-a384-eb6aebbadcba"
      },
      "execution_count": 151,
      "outputs": [
        {
          "output_type": "stream",
          "name": "stdout",
          "text": [
            "Poblacion inicial  [[[2, 3, 7, 8, 9], ['+', '/', '*', '-', '']], [[1, 3, 4, 6, 8], ['/', '-', '*', '+', '']], [[1, 5, 6, 7, 8], ['+', '-', '*', '/', '']], [[1, 3, 4, 5, 7], ['*', '+', '-', '/', '']], [[2, 3, 4, 7, 8], ['-', '+', '/', '*', '']], [[3, 5, 6, 8, 9], ['/', '+', '*', '-', '']], [[2, 3, 6, 8, 9], ['*', '/', '+', '-', '']], [[1, 3, 5, 6, 7], ['+', '*', '-', '/', '']], [[1, 3, 7, 8, 9], ['*', '-', '/', '+', '']], [[1, 4, 5, 7, 8], ['+', '-', '/', '*', '']]] len ->  10\n",
            "##################\n",
            "Generacion  0\n",
            "Padres             [[[2, 3, 6, 8, 9], ['*', '/', '+', '-', '']], [[1, 5, 6, 7, 8], ['+', '-', '*', '/', '']], [[2, 3, 4, 7, 8], ['-', '+', '/', '*', '']], [[1, 3, 4, 5, 7], ['*', '+', '-', '/', '']], [[1, 3, 7, 8, 9], ['*', '-', '/', '+', '']], [[1, 3, 5, 6, 7], ['+', '*', '-', '/', '']], [[3, 5, 6, 8, 9], ['/', '+', '*', '-', '']]] len ->  7\n",
            "hijos              [[[2, 3, 6, 8, 9], ['+', '-', '*', '/', '']], [[1, 5, 6, 7, 8], ['*', '/', '+', '-', '']], [[1, 5, 6, 7, 8], ['-', '+', '/', '*', '']], [[2, 3, 4, 7, 8], ['+', '-', '*', '/', '']], [[2, 3, 4, 7, 8], ['*', '+', '-', '/', '']], [[1, 3, 4, 5, 7], ['-', '+', '/', '*', '']], [[1, 3, 4, 5, 7], ['*', '-', '/', '+', '']], [[1, 3, 7, 8, 9], ['*', '+', '-', '/', '']], [[1, 3, 7, 8, 9], ['+', '*', '-', '/', '']], [[1, 3, 5, 6, 7], ['*', '-', '/', '+', '']]] len ->  10\n",
            "Hijos mutados      [[[2, 3, 6, 8, 9], ['+', '-', '*', '/', '']], [[1, 5, 2, 7, 8], ['*', '/', '+', '-', '']], [[1, 5, 2, 7, 8], ['-', '+', '/', '*', '']], [[2, 3, 4, 1, 8], ['+', '-', '*', '/', '']], [[2, 3, 4, 1, 8], ['*', '+', '-', '/', '']], [[1, 3, 4, 5, 7], ['-', '+', '/', '*', '']], [[1, 3, 4, 5, 7], ['*', '-', '/', '+', '']], [[1, 3, 7, 8, 9], ['*', '+', '-', '/', '']], [[1, 3, 7, 8, 9], ['+', '*', '-', '/', '']], [[1, 3, 5, 6, 7], ['*', '-', '/', '+', '']]] len ->  10\n",
            "##################\n",
            "##################\n",
            "Generacion  1\n",
            "Padres             [[[1, 3, 4, 5, 7], ['-', '+', '/', '*', '']], [[2, 3, 4, 1, 8], ['+', '-', '*', '/', '']], [[1, 3, 7, 8, 9], ['*', '+', '-', '/', '']], [[1, 3, 5, 6, 7], ['*', '-', '/', '+', '']], [[1, 3, 4, 5, 7], ['*', '-', '/', '+', '']], [[2, 3, 4, 1, 8], ['*', '+', '-', '/', '']], [[1, 3, 7, 8, 9], ['+', '*', '-', '/', '']]] len ->  7\n",
            "hijos              [[[1, 3, 4, 5, 7], ['+', '-', '*', '/', '']], [[2, 3, 4, 1, 8], ['-', '+', '/', '*', '']], [[2, 3, 4, 1, 8], ['*', '+', '-', '/', '']], [[1, 3, 7, 8, 9], ['+', '-', '*', '/', '']], [[1, 3, 7, 8, 9], ['*', '-', '/', '+', '']], [[1, 3, 5, 6, 7], ['*', '+', '-', '/', '']], [[1, 3, 5, 6, 7], ['*', '-', '/', '+', '']], [[1, 3, 4, 5, 7], ['*', '-', '/', '+', '']], [[1, 3, 4, 5, 7], ['*', '+', '-', '/', '']], [[2, 3, 4, 1, 8], ['*', '-', '/', '+', '']]] len ->  10\n",
            "Hijos mutados      [[[1, 3, 4, 5, 7], ['+', '-', '*', '/', '']], [[2, 3, 4, 1, 8], ['-', '+', '/', '*', '']], [[2, 3, 4, 1, 8], ['*', '+', '-', '/', '']], [[1, 3, 7, 8, 9], ['+', '-', '*', '/', '']], [[1, 3, 7, 8, 9], ['*', '/', '-', '+', '']], [[1, 3, 5, 6, 7], ['*', '+', '-', '/', '']], [[1, 3, 5, 6, 7], ['*', '/', '-', '+', '']], [[1, 3, 4, 5, 7], ['*', '/', '-', '+', '']], [[1, 3, 4, 5, 7], ['*', '+', '-', '/', '']], [[2, 3, 4, 1, 8], ['*', '/', '-', '+', '']]] len ->  10\n",
            "##################\n",
            "##################\n",
            "Generacion  2\n",
            "Padres             [[[1, 3, 5, 6, 7], ['*', '/', '-', '+', '']], [[1, 3, 4, 5, 7], ['*', '/', '-', '+', '']], [[1, 3, 4, 5, 7], ['*', '+', '-', '/', '']], [[1, 3, 5, 6, 7], ['*', '+', '-', '/', '']], [[2, 3, 4, 1, 8], ['*', '/', '-', '+', '']], [[2, 3, 4, 1, 8], ['*', '+', '-', '/', '']], [[2, 3, 4, 1, 8], ['-', '+', '/', '*', '']]] len ->  7\n",
            "hijos              [[[1, 3, 5, 6, 7], ['*', '/', '-', '+', '']], [[1, 3, 4, 5, 7], ['*', '/', '-', '+', '']], [[1, 3, 4, 5, 7], ['*', '+', '-', '/', '']], [[1, 2, 3, 6, 8], ['*', '+', '-', '/', '']], [[4, 5, 7, 8, 9], ['-', '/', '*', '+', '']], [[1, 3, 5, 6, 7], ['*', '+', '-', '/', '']], [[3, 4, 6, 8, 9], ['+', '/', '*', '-', '']], [[2, 3, 4, 1, 8], ['*', '+', '-', '/', '']], [[1, 4, 5, 6, 9], ['+', '/', '*', '-', '']], [[2, 3, 4, 1, 8], ['*', '/', '-', '+', '']]] len ->  10\n",
            "Hijos mutados      [[[1, 3, 5, 6, 7], ['*', '/', '-', '+', '']], [[1, 3, 4, 5, 7], ['*', '/', '-', '+', '']], [[1, 3, 4, 5, 7], ['*', '-', '+', '/', '']], [[1, 2, 3, 6, 8], ['/', '+', '-', '*', '']], [[4, 5, 7, 8, 9], ['-', '/', '*', '+', '']], [[1, 3, 5, 6, 7], ['*', '-', '+', '/', '']], [[3, 4, 2, 8, 9], ['+', '/', '*', '-', '']], [[2, 3, 4, 1, 8], ['*', '-', '+', '/', '']], [[1, 4, 5, 6, 9], ['*', '/', '+', '-', '']], [[2, 3, 4, 1, 8], ['*', '/', '-', '+', '']]] len ->  10\n",
            "##################\n",
            "##################\n",
            "Generacion  3\n",
            "Padres             [[[1, 3, 4, 5, 7], ['*', '-', '+', '/', '']], [[1, 3, 5, 6, 7], ['*', '/', '-', '+', '']], [[2, 3, 4, 1, 8], ['*', '-', '+', '/', '']], [[1, 3, 4, 5, 7], ['*', '/', '-', '+', '']], [[4, 5, 7, 8, 9], ['-', '/', '*', '+', '']], [[2, 3, 4, 1, 8], ['*', '/', '-', '+', '']], [[3, 4, 2, 8, 9], ['+', '/', '*', '-', '']]] len ->  7\n",
            "hijos              [[[1, 3, 4, 5, 7], ['*', '/', '-', '+', '']], [[1, 3, 5, 6, 7], ['*', '-', '+', '/', '']], [[3, 4, 5, 7, 9], ['/', '-', '*', '+', '']], [[2, 3, 4, 1, 8], ['*', '/', '-', '+', '']], [[1, 3, 5, 7, 8], ['/', '-', '*', '+', '']], [[1, 3, 4, 5, 7], ['*', '-', '+', '/', '']], [[1, 3, 4, 5, 7], ['-', '/', '*', '+', '']], [[4, 5, 7, 8, 9], ['*', '/', '-', '+', '']], [[2, 5, 6, 8, 9], ['-', '/', '+', '*', '']], [[2, 3, 4, 1, 8], ['-', '/', '*', '+', '']]] len ->  10\n",
            "Hijos mutados      [[[1, 3, 4, 5, 8], ['*', '/', '-', '+', '']], [[1, 3, 5, 6, 7], ['+', '-', '*', '/', '']], [[3, 4, 5, 7, 9], ['/', '-', '*', '+', '']], [[2, 3, 4, 1, 8], ['*', '/', '-', '+', '']], [[1, 3, 5, 7, 8], ['+', '-', '*', '/', '']], [[1, 3, 4, 5, 8], ['+', '-', '*', '/', '']], [[1, 3, 4, 5, 8], ['-', '/', '*', '+', '']], [[4, 5, 7, 8, 9], ['*', '/', '-', '+', '']], [[2, 5, 6, 8, 9], ['-', '/', '+', '*', '']], [[2, 3, 4, 1, 8], ['-', '/', '*', '+', '']]] len ->  10\n",
            "##################\n",
            "Mejor individuo =>  [[2, 5, 6, 8, 9], ['-', '/', '+', '*', '']]\n",
            "Mejor fitness =>  73.16666666666667\n"
          ]
        }
      ]
    }
  ]
}