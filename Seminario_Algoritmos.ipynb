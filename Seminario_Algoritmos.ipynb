{
  "nbformat": 4,
  "nbformat_minor": 0,
  "metadata": {
    "colab": {
      "provenance": [],
      "authorship_tag": "ABX9TyNXtE28fueNbgQ/gYNhDzEI",
      "include_colab_link": true
    },
    "kernelspec": {
      "name": "python3",
      "display_name": "Python 3"
    },
    "language_info": {
      "name": "python"
    }
  },
  "cells": [
    {
      "cell_type": "markdown",
      "metadata": {
        "id": "view-in-github",
        "colab_type": "text"
      },
      "source": [
        "<a href=\"https://colab.research.google.com/github/andresum97/03MAIR_algoritmos_de_optimizacion/blob/main/Seminario_Algoritmos.ipynb\" target=\"_parent\"><img src=\"https://colab.research.google.com/assets/colab-badge.svg\" alt=\"Open In Colab\"/></a>"
      ]
    },
    {
      "cell_type": "markdown",
      "source": [
        "# Algoritmos de optimización - Seminario<br>\n",
        "Nombre y Apellidos:   Andrés Urízar Mancía\n",
        "\n",
        "Url: https://github.com/andresum97/03MAIR_algoritmos_de_optimizacion/tree/main/SEMINARIO\n",
        "\n",
        "Problema:\n",
        "> Combinar cifras y operaciones\n",
        "\n",
        "Descripción del problema:\n",
        "\n",
        "* El problema consiste en analizar el siguiente problema y diseñar un algoritmo que lo resuelva.\n",
        "* Disponemos de las 9 cifras del 1 al 9 (excluimos el cero) y de los 4 signos básicos de las\n",
        "operaciones fundamentales: suma(+), resta(-), multiplicación(*) y división(/)\n",
        "* Debemos combinarlos alternativamente sin repetir ninguno de ellos para obtener una cantidad\n",
        "dada\n"
      ],
      "metadata": {
        "id": "KOOM3ggKreEn"
      }
    },
    {
      "cell_type": "markdown",
      "source": [
        "(*)¿Cuantas posibilidades hay sin tener en cuenta las restricciones?\n",
        "\n",
        "¿Cuantas posibilidades hay teniendo en cuenta todas las restricciones.\n"
      ],
      "metadata": {
        "id": "6fe1Zlwas6gL"
      }
    },
    {
      "cell_type": "markdown",
      "source": [
        "Respuesta"
      ],
      "metadata": {
        "id": "mujkgnZVynRh"
      }
    },
    {
      "cell_type": "markdown",
      "source": [
        "1. Las probabilidades sin tener en cuenta restricciones son \n",
        "2. Las probabilidades teniendo en cuenta las reestricciones son 120, debido que se tienen 5 elementos de números, y hay 4 operaciones, entonces como se toman todos los elementos de operación y no hay elementos repetidos, se realizará una permutación sin repetición, que son 5! = 120 posibilidades."
      ],
      "metadata": {
        "id": "oMnNDOEqyp8p"
      }
    },
    {
      "cell_type": "markdown",
      "source": [
        "Modelo para el espacio de soluciones<br>\n",
        "(*) ¿Cual es la estructura de datos que mejor se adapta al problema? Argumentalo.(Es posible que hayas elegido una al principio y veas la necesidad de cambiar, arguentalo)\n"
      ],
      "metadata": {
        "id": "r194MQG9yxWB"
      }
    },
    {
      "cell_type": "markdown",
      "source": [
        "Respuesta"
      ],
      "metadata": {
        "id": "q26IjK15y22o"
      }
    },
    {
      "cell_type": "markdown",
      "source": [
        "En este caso inicial, pensaria en un árbol como estructura de datos debido que al tener valores númericos y operaciones, donde los \"padres\" serían los simbolos aritemticos, y de hijo tienen los valores númericos y ahi ya se puede hacer un estimado del resultado entre dos valores númericos y observar cual es el mejor resultado.\n",
        "\n"
      ],
      "metadata": {
        "id": "qlbT_dQEy4yw"
      }
    },
    {
      "cell_type": "markdown",
      "source": [
        "Según el modelo para el espacio de soluciones<br>\n",
        "(*)¿Cual es la función objetivo?\n",
        "\n",
        "(*)¿Es un problema de maximización o minimización?"
      ],
      "metadata": {
        "id": "5MUqm8UBJAka"
      }
    },
    {
      "cell_type": "markdown",
      "source": [
        "Respuesta"
      ],
      "metadata": {
        "id": "GnjnVW3VJB9a"
      }
    },
    {
      "cell_type": "markdown",
      "source": [
        "* La función objetivo es encontrar el valor máximo que se puede realizar en la combinación de valores númericos al ponerlos en una determinada operación con otro valor numérico. \n",
        "\n",
        "* Se podría catalogar como un problema de maximación, debido que se intenta encontrar el valor máximo de la operación."
      ],
      "metadata": {
        "id": "9uc1ckxLJD4K"
      }
    },
    {
      "cell_type": "markdown",
      "source": [
        "Diseña un algoritmo por fuerza bruta"
      ],
      "metadata": {
        "id": "Luo_r4z-NS4G"
      }
    },
    {
      "cell_type": "markdown",
      "source": [
        "Respuesta"
      ],
      "metadata": {
        "id": "koDoXjaENW3F"
      }
    },
    {
      "cell_type": "markdown",
      "source": [
        "### Algoritmo por fuerza bruta\n"
      ],
      "metadata": {
        "id": "BF3fCdSrNbmm"
      }
    },
    {
      "cell_type": "code",
      "source": [
        "temp = []\n",
        "ans = []\n",
        "valores = []\n",
        "\n",
        "# Funcion para generar la lista de todas las probabidades de valores de n numeros\n",
        "# en k grupos\n",
        "def generar_valores_lista(n, restante, k):\n",
        "    if (k==0):\n",
        "        ans.append(temp)\n",
        "        t = []\n",
        "        for i in range(len(temp)):\n",
        "          t.append(temp[i])\n",
        "        valores.append(t)\n",
        "        return\n",
        "\n",
        "    for i in range(restante, n+1):\n",
        "      temp.append(i)\n",
        "      generar_valores_lista(n, i+1, k-1)\n",
        "      temp.pop()\n",
        "\n",
        "# Para manejar funcion inicial\n",
        "def generar_valores(n,k):\n",
        "  generar_valores_lista(n,1,k)\n",
        "  return valores\n"
      ],
      "metadata": {
        "id": "UV76QqsxeqOW"
      },
      "execution_count": 49,
      "outputs": []
    },
    {
      "cell_type": "code",
      "source": [
        "def encontrar_maximo_fb(operandos):\n",
        "  operacion_max = \"\"\n",
        "  res_max = -9999\n",
        "  operandos.append(\"\")\n",
        "  valores = generar_valores(9,5)\n",
        "  for numeros in valores:\n",
        "    temp = \"\"\n",
        "    for i in range(5):\n",
        "      temp += f'{numeros[i]}{operandos[i]}'\n",
        "    \n",
        "    temp_eval = eval(temp)\n",
        "    # print(\"temp -> \", temp, \"val \", temp_eval)\n",
        "    if temp_eval > res_max:\n",
        "      operacion_max = temp\n",
        "      res_max = temp_eval\n",
        "  \n",
        "  return operacion_max, str(round(res_max,2))\n",
        "\n",
        "res, val = encontrar_maximo_fb([\"-\",\"+\",\"/\",\"*\"])\n",
        "print(res, val)"
      ],
      "metadata": {
        "colab": {
          "base_uri": "https://localhost:8080/"
        },
        "id": "JTbw_flTNYGL",
        "outputId": "f9513b38-39a3-4f62-8399-9273e3a0fb9b"
      },
      "execution_count": 74,
      "outputs": [
        {
          "output_type": "stream",
          "name": "stdout",
          "text": [
            "1-2+7/8*9 6.88\n"
          ]
        }
      ]
    }
  ]
}