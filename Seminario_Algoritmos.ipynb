{
  "nbformat": 4,
  "nbformat_minor": 0,
  "metadata": {
    "colab": {
      "provenance": [],
      "authorship_tag": "ABX9TyM/Jw1MM1OC3CCqBBy2fjG4",
      "include_colab_link": true
    },
    "kernelspec": {
      "name": "python3",
      "display_name": "Python 3"
    },
    "language_info": {
      "name": "python"
    }
  },
  "cells": [
    {
      "cell_type": "markdown",
      "metadata": {
        "id": "view-in-github",
        "colab_type": "text"
      },
      "source": [
        "<a href=\"https://colab.research.google.com/github/andresum97/03MAIR_algoritmos_de_optimizacion/blob/main/Seminario_Algoritmos.ipynb\" target=\"_parent\"><img src=\"https://colab.research.google.com/assets/colab-badge.svg\" alt=\"Open In Colab\"/></a>"
      ]
    },
    {
      "cell_type": "markdown",
      "source": [
        "# Algoritmos de optimización - Seminario<br>\n",
        "Nombre y Apellidos:   Andrés Urízar Mancía\n",
        "\n",
        "Url: https://github.com/andresum97/03MAIR_algoritmos_de_optimizacion/tree/main/SEMINARIO\n",
        "\n",
        "Problema:\n",
        "> Combinar cifras y operaciones\n",
        "\n",
        "Descripción del problema:\n",
        "\n",
        "* El problema consiste en analizar el siguiente problema y diseñar un algoritmo que lo resuelva.\n",
        "* Disponemos de las 9 cifras del 1 al 9 (excluimos el cero) y de los 4 signos básicos de las\n",
        "operaciones fundamentales: suma(+), resta(-), multiplicación(*) y división(/)\n",
        "* Debemos combinarlos alternativamente sin repetir ninguno de ellos para obtener una cantidad\n",
        "dada\n"
      ],
      "metadata": {
        "id": "KOOM3ggKreEn"
      }
    },
    {
      "cell_type": "markdown",
      "source": [
        "(*)¿Cuantas posibilidades hay sin tener en cuenta las restricciones?\n",
        "\n",
        "¿Cuantas posibilidades hay teniendo en cuenta todas las restricciones.\n"
      ],
      "metadata": {
        "id": "6fe1Zlwas6gL"
      }
    },
    {
      "cell_type": "markdown",
      "source": [
        "Respuesta"
      ],
      "metadata": {
        "id": "mujkgnZVynRh"
      }
    },
    {
      "cell_type": "markdown",
      "source": [
        "1. Las probabilidades sin tener en cuenta restricciones son \n",
        "2. Las posibilidades teniendo en cuenta las reestricciones son 120, debido que se tienen 5 elementos de números sin repetición (5! = 120), y en el caso de las operaciones se tiene que es una permutación sin repetición de 4 operadores, lo cual es 4! = 24. Entonces al momento de juntar las posibilidades da un valor de 2800 posibilidades."
      ],
      "metadata": {
        "id": "oMnNDOEqyp8p"
      }
    },
    {
      "cell_type": "markdown",
      "source": [
        "Modelo para el espacio de soluciones<br>\n",
        "(*) ¿Cual es la estructura de datos que mejor se adapta al problema? Argumentalo.(Es posible que hayas elegido una al principio y veas la necesidad de cambiar, arguentalo)\n"
      ],
      "metadata": {
        "id": "r194MQG9yxWB"
      }
    },
    {
      "cell_type": "markdown",
      "source": [
        "Respuesta"
      ],
      "metadata": {
        "id": "q26IjK15y22o"
      }
    },
    {
      "cell_type": "markdown",
      "source": [
        "En este caso inicial, pensaria en un árbol como estructura de datos debido que al tener valores númericos y operaciones, donde los \"padres\" serían los simbolos aritemticos, y de hijo tienen los valores númericos y ahi ya se puede hacer un estimado del resultado entre dos valores númericos y observar cual es el mejor resultado.\n",
        "\n"
      ],
      "metadata": {
        "id": "qlbT_dQEy4yw"
      }
    },
    {
      "cell_type": "markdown",
      "source": [
        "Según el modelo para el espacio de soluciones<br>\n",
        "(*)¿Cual es la función objetivo?\n",
        "\n",
        "(*)¿Es un problema de maximización o minimización?"
      ],
      "metadata": {
        "id": "5MUqm8UBJAka"
      }
    },
    {
      "cell_type": "markdown",
      "source": [
        "Respuesta"
      ],
      "metadata": {
        "id": "GnjnVW3VJB9a"
      }
    },
    {
      "cell_type": "markdown",
      "source": [
        "* La función objetivo es encontrar el valor máximo que se puede realizar en la combinación de valores númericos al ponerlos en una determinada operación con otro valor numérico. \n",
        "\n",
        "* Se podría catalogar como un problema de maximación, debido que se intenta encontrar el valor máximo de la operación."
      ],
      "metadata": {
        "id": "9uc1ckxLJD4K"
      }
    },
    {
      "cell_type": "markdown",
      "source": [
        "Diseña un algoritmo por fuerza bruta"
      ],
      "metadata": {
        "id": "Luo_r4z-NS4G"
      }
    },
    {
      "cell_type": "markdown",
      "source": [
        "Respuesta"
      ],
      "metadata": {
        "id": "koDoXjaENW3F"
      }
    },
    {
      "cell_type": "markdown",
      "source": [
        "### Algoritmo por fuerza bruta\n"
      ],
      "metadata": {
        "id": "BF3fCdSrNbmm"
      }
    },
    {
      "cell_type": "code",
      "source": [
        "from itertools import permutations"
      ],
      "metadata": {
        "id": "DKHRuzy2YHR5"
      },
      "execution_count": null,
      "outputs": []
    },
    {
      "cell_type": "code",
      "source": [
        "temp = []\n",
        "ans = []\n",
        "valores = []\n",
        "\n",
        "# Funcion para generar la lista de todas las probabidades de valores de n numeros\n",
        "# en k grupos\n",
        "def generar_valores_lista(n, restante, k):\n",
        "    if (k==0):\n",
        "        ans.append(temp)\n",
        "        t = []\n",
        "        for i in range(len(temp)):\n",
        "          t.append(temp[i])\n",
        "        valores.append(t)\n",
        "        return\n",
        "\n",
        "    for i in range(restante, n+1):\n",
        "      temp.append(i)\n",
        "      generar_valores_lista(n, i+1, k-1)\n",
        "      temp.pop()\n",
        "\n",
        "# Para manejar funcion inicial\n",
        "def generar_valores(n,k):\n",
        "  generar_valores_lista(n,1,k)\n",
        "  return valores\n"
      ],
      "metadata": {
        "id": "UV76QqsxeqOW"
      },
      "execution_count": 2,
      "outputs": []
    },
    {
      "cell_type": "code",
      "source": [
        "_lista = list(permutations([\"-\",\"+\",\"/\",\"*\"]))\n",
        "print(_lista)\n",
        "operandos_lista = [elem+(\"\",) for elem in _lista]\n",
        "print(operandos_lista)"
      ],
      "metadata": {
        "colab": {
          "base_uri": "https://localhost:8080/"
        },
        "id": "iFZy4U51YQiw",
        "outputId": "6b431c83-3ce2-40e3-f4f1-b4e0977d41fe"
      },
      "execution_count": 3,
      "outputs": [
        {
          "output_type": "stream",
          "name": "stdout",
          "text": [
            "[('-', '+', '/', '*'), ('-', '+', '*', '/'), ('-', '/', '+', '*'), ('-', '/', '*', '+'), ('-', '*', '+', '/'), ('-', '*', '/', '+'), ('+', '-', '/', '*'), ('+', '-', '*', '/'), ('+', '/', '-', '*'), ('+', '/', '*', '-'), ('+', '*', '-', '/'), ('+', '*', '/', '-'), ('/', '-', '+', '*'), ('/', '-', '*', '+'), ('/', '+', '-', '*'), ('/', '+', '*', '-'), ('/', '*', '-', '+'), ('/', '*', '+', '-'), ('*', '-', '+', '/'), ('*', '-', '/', '+'), ('*', '+', '-', '/'), ('*', '+', '/', '-'), ('*', '/', '-', '+'), ('*', '/', '+', '-')]\n",
            "[('-', '+', '/', '*', ''), ('-', '+', '*', '/', ''), ('-', '/', '+', '*', ''), ('-', '/', '*', '+', ''), ('-', '*', '+', '/', ''), ('-', '*', '/', '+', ''), ('+', '-', '/', '*', ''), ('+', '-', '*', '/', ''), ('+', '/', '-', '*', ''), ('+', '/', '*', '-', ''), ('+', '*', '-', '/', ''), ('+', '*', '/', '-', ''), ('/', '-', '+', '*', ''), ('/', '-', '*', '+', ''), ('/', '+', '-', '*', ''), ('/', '+', '*', '-', ''), ('/', '*', '-', '+', ''), ('/', '*', '+', '-', ''), ('*', '-', '+', '/', ''), ('*', '-', '/', '+', ''), ('*', '+', '-', '/', ''), ('*', '+', '/', '-', ''), ('*', '/', '-', '+', ''), ('*', '/', '+', '-', '')]\n"
          ]
        }
      ]
    },
    {
      "cell_type": "code",
      "source": [
        "def encontrar_maximo_fb():\n",
        "  operacion_max = \"\"\n",
        "  res_max = -9999\n",
        "  _lista = list(permutations([\"-\",\"+\",\"/\",\"*\"]))\n",
        "  operandos_lista = [elem+(\"\",) for elem in _lista]\n",
        "  valores = generar_valores(9,5)\n",
        "  for operandos in operandos_lista:\n",
        "    for numeros in valores:\n",
        "      temp = \"\"\n",
        "      for i in range(5):\n",
        "        temp += f'{numeros[i]}{operandos[i]}'\n",
        "      \n",
        "      temp_eval = eval(temp)\n",
        "      # print(\"temp -> \", temp, \"val \", temp_eval)\n",
        "      if temp_eval > res_max:\n",
        "        operacion_max = temp\n",
        "        res_max = temp_eval\n",
        "    \n",
        "  return operacion_max, str(round(res_max,2))\n",
        "\n",
        "res, val = encontrar_maximo_fb()\n",
        "print(res, val)"
      ],
      "metadata": {
        "colab": {
          "base_uri": "https://localhost:8080/"
        },
        "id": "JTbw_flTNYGL",
        "outputId": "28ff9f75-9db6-4937-f413-597148d59bcb"
      },
      "execution_count": null,
      "outputs": [
        {
          "output_type": "stream",
          "name": "stdout",
          "text": [
            "5-6/7+8*9 76.14\n"
          ]
        }
      ]
    },
    {
      "cell_type": "markdown",
      "source": [
        "378\n",
        "1-2+7/8*9 6.88"
      ],
      "metadata": {
        "id": "XAhS05ynZ1iU"
      }
    },
    {
      "cell_type": "markdown",
      "source": [
        "Calcula la complejidad del algoritmo por fuerza bruta"
      ],
      "metadata": {
        "id": "Dh1G73sHL3W1"
      }
    },
    {
      "cell_type": "markdown",
      "source": [
        "Respuesta"
      ],
      "metadata": {
        "id": "ac6SYhmlL7xC"
      }
    },
    {
      "cell_type": "markdown",
      "source": [
        "La complejidad del algoritmo es O(n^2)\n",
        "\n"
      ],
      "metadata": {
        "id": "rbHFxJOQMS75"
      }
    },
    {
      "cell_type": "markdown",
      "source": [
        "### Algoritmo mejorado"
      ],
      "metadata": {
        "id": "fOYAlfQqOKH8"
      }
    },
    {
      "cell_type": "markdown",
      "source": [
        "(*)Diseña un algoritmo que mejore la complejidad del algortimo por fuerza bruta. Argumenta porque crees que mejora el algoritmo por fuerza bruta"
      ],
      "metadata": {
        "id": "xYjIQb_lOHaN"
      }
    },
    {
      "cell_type": "markdown",
      "source": [
        "Respuesta"
      ],
      "metadata": {
        "id": "SQRPwMGvOOF8"
      }
    },
    {
      "cell_type": "code",
      "source": [
        "# Se va a realizar un algoritmo genetivco\n",
        "from random import randint, uniform, choice\n",
        "\n",
        "def poblacion_signos():\n",
        "  _lista = list(permutations([\"-\",\"+\",\"/\",\"*\"]))\n",
        "  operandos_lista = [list(elem+(\"\",)) for elem in _lista]\n",
        "  return operandos_lista\n",
        "\n",
        "def crear_poblacion_inicial(num_poblacion, cromosomas):\n",
        "  opciones_signos = poblacion_signos()\n",
        "  opciones_valores = generar_valores(9,cromosomas)\n",
        "  # print(opciones_signos)\n",
        "  # print(opciones_valores)\n",
        "  poblacion_inicial = []\n",
        "  for i in range(num_poblacion):\n",
        "    idx_signos = randint(0,len(opciones_signos)-1)\n",
        "    idx_valores = randint(0,len(opciones_valores)-1)\n",
        "    temp = [opciones_valores.pop(idx_valores), opciones_signos.pop(idx_signos)]\n",
        "    poblacion_inicial.append(temp)\n",
        "\n",
        "  return poblacion_inicial\n",
        "\n",
        "# Calculo de fitness donde se calcula el eval de la expresion\n",
        "def fitness(poblacion):\n",
        "  aptitud = [0 for _ in range(len(poblacion))]\n",
        "  # Calcular aptitudes con funcion eval por individuos\n",
        "  for idx,individuo in enumerate(poblacion):\n",
        "    valores = individuo[0]\n",
        "    operandos = individuo[1]\n",
        "    # print(\"val\",valores)\n",
        "    # print(\"op\", operandos)\n",
        "    temp = \"\"\n",
        "    for i in range(len(valores)):\n",
        "      temp += f'{valores[i]}{operandos[i]}'\n",
        "\n",
        "    temp_eval = eval(temp)\n",
        "    aptitud[idx]  = temp_eval\n",
        "\n",
        "  return aptitud\n",
        "\n",
        "# Se selecciona al 70% de los mejores individuos\n",
        "def seleccion(poblacion, fitness):\n",
        "  porcentaje = int(len(poblacion)*.70)\n",
        "  individuos = [(poblacion[i], fitness[i]) for i in range(len(poblacion))]\n",
        "  individuos.sort(key=lambda a: a[1])\n",
        "  mejores = individuos[-porcentaje:]\n",
        "  mejores = [element[0] for element in mejores]\n",
        "  return mejores\n",
        "\n",
        "def crossover(padres, num_hijos):\n",
        "  hijos = []\n",
        "\n",
        "  for i in range(int(num_hijos/2)):\n",
        "    #Indices de los padres\n",
        "    idx1 = i%len(padres)\n",
        "    idx2 = (i+1)%len(padres)\n",
        "    \n",
        "    # print('###########')\n",
        "    # print('Padre 1', idx1)\n",
        "    # print('Padre 2', idx2)\n",
        "    # print('###########')\n",
        "\n",
        "    # Se seleccionan a los padres\n",
        "\n",
        "    padre1 = padres[idx1].copy()\n",
        "    padre2 = padres[idx2].copy()\n",
        "\n",
        "    # print('###########')\n",
        "    # print('Padre 1', padre1)\n",
        "    # print('Padre 2', padre2)\n",
        "    # print('###########')\n",
        "\n",
        "    # Se realiza intercambio de valores\n",
        "\n",
        "    hijo1 = [padre1[0], padre2[1]] \n",
        "    hijo2 = [padre2[0], padre1[1]]\n",
        "\n",
        "    # print('###########')\n",
        "    # print('hijo 1', hijo1)\n",
        "    # print('hijo 2', hijo2)\n",
        "    # print('###########')\n",
        "\n",
        "    hijos.append(hijo1)\n",
        "    hijos.append(hijo2)\n",
        "  \n",
        "  # print(\"hijos\", len(hijos[:num_hijos]))\n",
        "  # print(hijos[:num_hijos])\n",
        "  return hijos\n",
        "\n",
        "def mutacion(individuo, radio_mutacion):\n",
        "  # Verificar si el individuo va a mutar o no\n",
        "  if uniform(0,1) < radio_mutacion:\n",
        "    # print('Ingreso a cambiar ', individuo)\n",
        "    idx = randint(0,1) #Indice que indica si se modifican numeros o signos\n",
        "    if idx == 0: # Se cambiara valor numerico\n",
        "      valor_nuevo = choice([x for x in range(9) if x not in individuo[0] and x != 0])\n",
        "      individuo[0][randint(0,len(individuo[0])-1)] = valor_nuevo  #Se guarda valor nuevo\n",
        "    elif idx == 1:\n",
        "      while True:\n",
        "        a,b = randint(0,3), randint(0,3)\n",
        "        if a != b:\n",
        "          break\n",
        "      individuo[1][b], individuo[1][a] = individuo[1][a], individuo[1][b]\n",
        "    \n",
        "    # print('nuevo individuo', individuo)\n",
        "\n",
        "  return individuo\n",
        "\n",
        "\n",
        "\n",
        "\n",
        "\n",
        "def encontrar_maximo():\n",
        "  num_poblacion = 10\n",
        "  cromosomas = 5\n",
        "  generacion = 3\n",
        "  valores = [i for i in range(1,10)]\n",
        "  poblacion = []\n",
        "\n",
        "  # Se crea la poblacion inicial\n",
        "  poblacion = crear_poblacion_inicial(num_poblacion, cromosomas)\n",
        "  print(\"Poblacion inicial \", poblacion, \"len -> \", len(poblacion))\n",
        "  fitness_inicial = fitness(poblacion)\n",
        "  print(\"Fitness poblacion \", fitness_inicial, \"len -> \", len(fitness_inicial))\n",
        "  # print(fitness_inicial)\n",
        "  seleccion_ = seleccion(poblacion, fitness_inicial)\n",
        "  print(\"Padres            \", seleccion_, \"len -> \", len(seleccion_))\n",
        "  hijos = crossover(seleccion_, num_poblacion)\n",
        "  print(\"hijos             \", hijos, \"len -> \", len(hijos))\n",
        "  # resto = len(hijos)\n",
        "  # print(resto)\n",
        "  # restantes = crear_poblacion_inicial(resto,cromosomas)\n",
        "  # print(restantes)\n",
        "  # hijos += restantes\n",
        "  # print(\"hijos nuevo\", hijos)\n",
        "  for hijo in hijos:\n",
        "    mutacion(hijo, 0.20)\n",
        "  print(\"Hijos mutados     \", hijos,\"len -> \", len(hijos))\n",
        "\n",
        "encontrar_maximo()"
      ],
      "metadata": {
        "id": "mtImhCnGMd-x",
        "colab": {
          "base_uri": "https://localhost:8080/"
        },
        "outputId": "3f5ae923-cf72-4731-e78e-a519b0a6e7dd"
      },
      "execution_count": 47,
      "outputs": [
        {
          "output_type": "stream",
          "name": "stdout",
          "text": [
            "Poblacion inicial  [[[2, 5, 7, 8, 9], ['*', '+', '/', '-', '']], [[1, 2, 7, 8, 9], ['/', '-', '*', '+', '']], [[1, 4, 6, 8, 9], ['-', '/', '+', '*', '']], [[3, 4, 6, 8, 9], ['/', '*', '+', '-', '']], [[1, 2, 5, 7, 9], ['-', '*', '+', '/', '']], [[1, 3, 5, 6, 9], ['/', '-', '+', '*', '']], [[2, 3, 4, 6, 9], ['*', '-', '+', '/', '']], [[1, 2, 4, 7, 8], ['+', '-', '*', '/', '']], [[1, 3, 4, 8, 9], ['/', '+', '-', '*', '']], [[1, 2, 3, 5, 6], ['+', '*', '/', '-', '']]] len ->  10\n",
            "Fitness poblacion  [1.875, -46.5, 72.33333333333333, 3.5, -8.222222222222221, 49.333333333333336, 2.6666666666666665, -0.5, -67.66666666666667, -3.8] len ->  10\n",
            "Padres             [[[1, 2, 3, 5, 6], ['+', '*', '/', '-', '']], [[1, 2, 4, 7, 8], ['+', '-', '*', '/', '']], [[2, 5, 7, 8, 9], ['*', '+', '/', '-', '']], [[2, 3, 4, 6, 9], ['*', '-', '+', '/', '']], [[3, 4, 6, 8, 9], ['/', '*', '+', '-', '']], [[1, 3, 5, 6, 9], ['/', '-', '+', '*', '']], [[1, 4, 6, 8, 9], ['-', '/', '+', '*', '']]] len ->  7\n",
            "hijos              [[[1, 2, 3, 5, 6], ['+', '-', '*', '/', '']], [[1, 2, 4, 7, 8], ['+', '*', '/', '-', '']], [[1, 2, 4, 7, 8], ['*', '+', '/', '-', '']], [[2, 5, 7, 8, 9], ['+', '-', '*', '/', '']], [[2, 5, 7, 8, 9], ['*', '-', '+', '/', '']], [[2, 3, 4, 6, 9], ['*', '+', '/', '-', '']], [[2, 3, 4, 6, 9], ['/', '*', '+', '-', '']], [[3, 4, 6, 8, 9], ['*', '-', '+', '/', '']], [[3, 4, 6, 8, 9], ['/', '-', '+', '*', '']], [[1, 3, 5, 6, 9], ['/', '*', '+', '-', '']]] len ->  10\n",
            "Hijos mutados      [[[1, 2, 3, 5, 6], ['+', '-', '*', '/', '']], [[1, 2, 4, 7, 8], ['+', '*', '/', '-', '']], [[1, 2, 4, 7, 8], ['*', '+', '/', '-', '']], [[2, 5, 7, 8, 9], ['+', '-', '*', '/', '']], [[2, 5, 7, 8, 9], ['*', '-', '+', '/', '']], [[2, 3, 4, 6, 9], ['*', '+', '/', '-', '']], [[2, 3, 4, 6, 9], ['*', '/', '+', '-', '']], [[3, 4, 6, 8, 9], ['*', '-', '+', '/', '']], [[3, 4, 6, 8, 9], ['/', '-', '+', '*', '']], [[1, 3, 5, 6, 9], ['*', '/', '+', '-', '']]] len ->  10\n"
          ]
        }
      ]
    },
    {
      "cell_type": "code",
      "source": [
        "crear_poblacion_inicial(2, 5)"
      ],
      "metadata": {
        "id": "WhdnbKWPNnZ3",
        "colab": {
          "base_uri": "https://localhost:8080/"
        },
        "outputId": "095ec892-f969-456a-a367-80726e20a060"
      },
      "execution_count": 24,
      "outputs": [
        {
          "output_type": "execute_result",
          "data": {
            "text/plain": [
              "[[[2, 4, 5, 6, 9], ['*', '+', '/', '-', '']],\n",
              " [[1, 3, 4, 7, 8], ['/', '*', '-', '+', '']]]"
            ]
          },
          "metadata": {},
          "execution_count": 24
        }
      ]
    }
  ]
}