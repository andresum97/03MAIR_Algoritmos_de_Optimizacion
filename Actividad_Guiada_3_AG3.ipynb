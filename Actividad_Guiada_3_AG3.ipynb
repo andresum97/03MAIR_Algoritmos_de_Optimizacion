{
  "nbformat": 4,
  "nbformat_minor": 0,
  "metadata": {
    "colab": {
      "provenance": [],
      "authorship_tag": "ABX9TyN9W34rj+rhdmojzADO1Pfb",
      "include_colab_link": true
    },
    "kernelspec": {
      "name": "python3",
      "display_name": "Python 3"
    },
    "language_info": {
      "name": "python"
    }
  },
  "cells": [
    {
      "cell_type": "markdown",
      "metadata": {
        "id": "view-in-github",
        "colab_type": "text"
      },
      "source": [
        "<a href=\"https://colab.research.google.com/github/andresum97/03MAIR_algoritmos_de_optimizacion/blob/main/Actividad_Guiada_3_AG3.ipynb\" target=\"_parent\"><img src=\"https://colab.research.google.com/assets/colab-badge.svg\" alt=\"Open In Colab\"/></a>"
      ]
    },
    {
      "cell_type": "markdown",
      "source": [
        "# AG3 - Actividad Guiada 3\n",
        "\n",
        "Nombre: Andrés Urízar\n",
        "\n",
        "https://colab.research.google.com/drive/1Sylfi3efLc615xLhlNuGVtc01hfVNyxm?usp=sharing\n",
        "\n",
        "https://github.com/andresum97/03MAIR_algoritmos_de_optimizacion\n"
      ],
      "metadata": {
        "id": "E1bJmUapqqol"
      }
    },
    {
      "cell_type": "markdown",
      "source": [
        "## Carga de librerias\n"
      ],
      "metadata": {
        "id": "LCtcxQeVrLvH"
      }
    },
    {
      "cell_type": "code",
      "source": [
        "!pip install requests    #Hacer llamadas http a paginas de la red\n",
        "!pip install tsplib95    #Modulo para las instancias del problema del TSP"
      ],
      "metadata": {
        "id": "5KwBsnXLrR-i",
        "colab": {
          "base_uri": "https://localhost:8080/"
        },
        "outputId": "3d5b3065-e922-4fe2-a707-88016bf834a9"
      },
      "execution_count": 1,
      "outputs": [
        {
          "output_type": "stream",
          "name": "stdout",
          "text": [
            "Looking in indexes: https://pypi.org/simple, https://us-python.pkg.dev/colab-wheels/public/simple/\n",
            "Requirement already satisfied: requests in /usr/local/lib/python3.8/dist-packages (2.25.1)\n",
            "Requirement already satisfied: chardet<5,>=3.0.2 in /usr/local/lib/python3.8/dist-packages (from requests) (4.0.0)\n",
            "Requirement already satisfied: idna<3,>=2.5 in /usr/local/lib/python3.8/dist-packages (from requests) (2.10)\n",
            "Requirement already satisfied: urllib3<1.27,>=1.21.1 in /usr/local/lib/python3.8/dist-packages (from requests) (1.24.3)\n",
            "Requirement already satisfied: certifi>=2017.4.17 in /usr/local/lib/python3.8/dist-packages (from requests) (2022.12.7)\n",
            "Looking in indexes: https://pypi.org/simple, https://us-python.pkg.dev/colab-wheels/public/simple/\n",
            "Collecting tsplib95\n",
            "  Downloading tsplib95-0.7.1-py2.py3-none-any.whl (25 kB)\n",
            "Collecting networkx~=2.1\n",
            "  Downloading networkx-2.8.8-py3-none-any.whl (2.0 MB)\n",
            "\u001b[2K     \u001b[90m━━━━━━━━━━━━━━━━━━━━━━━━━━━━━━━━━━━━━━━━\u001b[0m \u001b[32m2.0/2.0 MB\u001b[0m \u001b[31m23.8 MB/s\u001b[0m eta \u001b[36m0:00:00\u001b[0m\n",
            "\u001b[?25hCollecting Deprecated~=1.2.9\n",
            "  Downloading Deprecated-1.2.13-py2.py3-none-any.whl (9.6 kB)\n",
            "Requirement already satisfied: Click>=6.0 in /usr/local/lib/python3.8/dist-packages (from tsplib95) (7.1.2)\n",
            "Requirement already satisfied: tabulate~=0.8.7 in /usr/local/lib/python3.8/dist-packages (from tsplib95) (0.8.10)\n",
            "Requirement already satisfied: wrapt<2,>=1.10 in /usr/local/lib/python3.8/dist-packages (from Deprecated~=1.2.9->tsplib95) (1.14.1)\n",
            "Installing collected packages: networkx, Deprecated, tsplib95\n",
            "  Attempting uninstall: networkx\n",
            "    Found existing installation: networkx 3.0\n",
            "    Uninstalling networkx-3.0:\n",
            "      Successfully uninstalled networkx-3.0\n",
            "Successfully installed Deprecated-1.2.13 networkx-2.8.8 tsplib95-0.7.1\n"
          ]
        }
      ]
    },
    {
      "cell_type": "code",
      "source": [
        "import urllib.request #Hacer llamadas http a paginas de la red\n",
        "import tsplib95       #Modulo para las instancias del problema del TSP\n",
        "import math           #Modulo de funciones matematicas. Se usa para exp\n",
        "import random         #Generar valores aleatorios"
      ],
      "metadata": {
        "id": "HDKn5mtVtaec"
      },
      "execution_count": 24,
      "outputs": []
    },
    {
      "cell_type": "code",
      "source": [
        "#Descargamos el fichero de datos(Matriz de distancias)\n",
        "file = \"swiss42.tsp\" ; \n",
        "urllib.request.urlretrieve(\"http://comopt.ifi.uni-heidelberg.de/software/TSPLIB95/tsp/swiss42.tsp.gz\", file + '.gz')\n",
        "!gzip -d swiss42.tsp.gz     #Descomprimir el fichero de datos "
      ],
      "metadata": {
        "id": "vdZU6ZLctjvn",
        "colab": {
          "base_uri": "https://localhost:8080/"
        },
        "outputId": "327b9f18-ee67-4aa6-9854-99b25a3a3464"
      },
      "execution_count": 25,
      "outputs": [
        {
          "output_type": "stream",
          "name": "stdout",
          "text": [
            "gzip: swiss42.tsp already exists; do you wish to overwrite (y or n)? n\n",
            "\tnot overwritten\n"
          ]
        }
      ]
    },
    {
      "cell_type": "code",
      "source": [
        "#Carga de datos y generación de objeto problem\n",
        "###############################################################################\n",
        "problem = tsplib95.load(file) #Datos del fichero\n",
        "\n",
        "#Nodos\n",
        "nodos = list(problem.get_nodes()) #Tiene funcion definida para obtener nodos\n",
        "\n",
        "#Aristas\n",
        "Aristas = list(problem.get_edges()) #Tiene funcion definida para obtener aristas"
      ],
      "metadata": {
        "id": "d8uNlYAVwUjh"
      },
      "execution_count": 26,
      "outputs": []
    },
    {
      "cell_type": "code",
      "source": [
        "# Funcion para probar\n",
        "\n",
        "#Distancia entre nodos\n",
        "problem.get_weight(0, 3)"
      ],
      "metadata": {
        "colab": {
          "base_uri": "https://localhost:8080/"
        },
        "id": "9A0kaS0gwtel",
        "outputId": "816d37b3-de8e-487f-8445-ab400b909ec3"
      },
      "execution_count": 27,
      "outputs": [
        {
          "output_type": "execute_result",
          "data": {
            "text/plain": [
              "23"
            ]
          },
          "metadata": {},
          "execution_count": 27
        }
      ]
    },
    {
      "cell_type": "markdown",
      "source": [
        "## Declaración de funciones básicas"
      ],
      "metadata": {
        "id": "yxNQbAYBxPiR"
      }
    },
    {
      "cell_type": "code",
      "source": [
        "# Devuelve la distancia entre dos nodos\n",
        "def distancia(a,b, problem):\n",
        "    return problem.get_weight(a,b)\n",
        "\n",
        "# Genera una solucion aleatoria empezando en el nodo 0\n",
        "def crear_solucion(nodos):\n",
        "    solucion = [nodos[0]]\n",
        "    #en cada paso se elige un elemento no elegido y eliminando el 0 y los que\n",
        "    #hayamos elegido anteriormente\n",
        "    #Si hay que quitar el nodo 0 porque si parece afectar la distancia\n",
        "    for nodo in nodos[1:]:\n",
        "      solucion += [random.choice(list(set(nodos) - set({nodos[0]}) - set(solucion)))]\n",
        "    return solucion\n",
        "\n",
        "# Calcula la distancia total de la trayectoria/solucion\n",
        "def distancia_total(solucion, problem):\n",
        "  dist = 0\n",
        "  #recorrer todos los pasos y calcula distancia acumulando las aristas\n",
        "  for i in range(len(solucion)-1):\n",
        "    dist += distancia(solucion[i], solucion[i+1], problem)\n",
        "  return dist + distancia(solucion[len(solucion)-1], solucion[0], problem)\n",
        "\n",
        "solucion = crear_solucion(nodos)\n",
        "distancia_total(solucion, problem)\n",
        "\n",
        "print(solucion)"
      ],
      "metadata": {
        "colab": {
          "base_uri": "https://localhost:8080/"
        },
        "id": "TkbMq5gIxUXA",
        "outputId": "501f4ec7-fee4-4e4b-eceb-88b4c3fc51a3"
      },
      "execution_count": 28,
      "outputs": [
        {
          "output_type": "stream",
          "name": "stdout",
          "text": [
            "[0, 17, 4, 16, 31, 14, 3, 1, 26, 22, 6, 21, 7, 34, 38, 39, 11, 35, 27, 23, 12, 25, 20, 29, 8, 37, 13, 9, 36, 24, 10, 32, 5, 41, 28, 40, 33, 18, 19, 2, 30, 15]\n"
          ]
        }
      ]
    },
    {
      "cell_type": "markdown",
      "source": [
        "## Búsqueda aleatoria"
      ],
      "metadata": {
        "id": "rhxwAQE3z_V9"
      }
    },
    {
      "cell_type": "code",
      "source": [
        "# Busqueda aleatoria\n",
        "\n",
        "def busqueda_aleatoria(problem, n):\n",
        "  nodos = list(problem.get_nodes())\n",
        "\n",
        "  mejor_resultado = []\n",
        "  #Se comienza con un valor alto para que el primer resultado encontrado\n",
        "  #lo reemplace\n",
        "  mejor_distancia = 999999999\n",
        "\n",
        "  for i in range(n):\n",
        "    resultado = crear_solucion(nodos)    #solucion aleatoria\n",
        "    distancia = distancia_total(solucion, problem) #distancia de solucion aleatoria\n",
        "\n",
        "    if distancia < mejor_distancia:\n",
        "      mejor_resultado = resultado\n",
        "      mejor_distancia = distancia\n",
        "\n",
        "  return mejor_resultado, distancia\n",
        "\n",
        "solucion, dist = busqueda_aleatoria(problem, 5000)\n",
        "print(solucion)\n",
        "print(dist)"
      ],
      "metadata": {
        "colab": {
          "base_uri": "https://localhost:8080/"
        },
        "id": "Bu6RkU0Y0F4C",
        "outputId": "366ac75f-fc26-4fad-bc67-8b7101fcd05a"
      },
      "execution_count": 29,
      "outputs": [
        {
          "output_type": "stream",
          "name": "stdout",
          "text": [
            "[0, 12, 13, 7, 33, 25, 4, 34, 18, 37, 22, 35, 21, 40, 24, 9, 20, 17, 28, 19, 38, 32, 41, 14, 36, 16, 1, 10, 30, 27, 8, 6, 26, 23, 31, 3, 5, 11, 2, 15, 29, 39]\n",
            "5006\n"
          ]
        }
      ]
    },
    {
      "cell_type": "markdown",
      "source": [
        "## Búsqueda local"
      ],
      "metadata": {
        "id": "Vf-ZblpL9WTz"
      }
    },
    {
      "cell_type": "code",
      "source": [
        "# Busqueda local\n",
        "def genera_vecina(solucion):\n",
        "  mejor_resultado = []\n",
        "  mejor_distancia = 9999999999\n",
        "\n",
        "  # Se intercambian nodos, se comienza por el primer nodo\n",
        "  # y se utiliza el nodo siguiente al seleccionado hasta el final\n",
        "  for i in range(1, len(solucion) - 1):\n",
        "    for j in range(i+1, len(solucion)):\n",
        "      # Se procede a intercambiar nodo i con nodo j\n",
        "      vecino = solucion[:i] + [solucion[j]] + solucion[i+1:j] + [solucion[i]] + solucion[j+1:]\n",
        "\n",
        "      # Calcula la nueva distancia de la solucion obtenida\n",
        "      nueva_distancia = distancia_total(vecino, problem)\n",
        "\n",
        "      # Si es mejor se realiza el intercambio\n",
        "      if nueva_distancia <= mejor_distancia:\n",
        "        mejor_distancia = nueva_distancia\n",
        "        mejor_resultado = vecino\n",
        "\n",
        "  return mejor_resultado\n",
        "\n",
        "print(distancia_total(solucion, problem))\n",
        "nueva_solucion = genera_vecina(solucion)\n",
        "print(distancia_total(nueva_solucion, problem))"
      ],
      "metadata": {
        "id": "TolNOkBG9Z8h",
        "colab": {
          "base_uri": "https://localhost:8080/"
        },
        "outputId": "f00fbc9f-e25b-421d-9c81-f5ce5dfa1ca3"
      },
      "execution_count": 30,
      "outputs": [
        {
          "output_type": "stream",
          "name": "stdout",
          "text": [
            "4671\n",
            "4269\n"
          ]
        }
      ]
    },
    {
      "cell_type": "code",
      "source": [
        "#Busqueda local\n",
        "\n",
        "def busqueda_local(problem):\n",
        "  mejor_resultado = []\n",
        "\n",
        "  # Se genra una solucion aleatoria\n",
        "  sol_referencia = crear_solucion(nodos)\n",
        "  mejor_distancia = distancia_total(sol_referencia, problem)\n",
        "\n",
        "  cont = 0\n",
        "  # Se realiza un loop infinito hasta que se haga un retorno\n",
        "  # (criterio de parada)\n",
        "  while(True):\n",
        "    vecino = genera_vecina(sol_referencia)\n",
        "    distancia = distancia_total(vecino, problem)\n",
        "\n",
        "    # Se comprueba que mejora el resultado\n",
        "    if distancia < mejor_distancia:\n",
        "      mejor_resultado = vecino\n",
        "      mejor_distancia = distancia\n",
        "    \n",
        "    else:\n",
        "      # Cuando ya no tiene a donde mas avanzar\n",
        "      print('Distancia', mejor_distancia)\n",
        "      return mejor_resultado\n",
        "\n",
        "    sol_referencia = vecino\n",
        "\n",
        "\n",
        "resultado = busqueda_local(problem)\n",
        "print('Distancia ', resultado)"
      ],
      "metadata": {
        "colab": {
          "base_uri": "https://localhost:8080/"
        },
        "id": "bEB_DHICAra-",
        "outputId": "1f0658f9-39a7-4d84-d2ac-6edbbdce1606"
      },
      "execution_count": 31,
      "outputs": [
        {
          "output_type": "stream",
          "name": "stdout",
          "text": [
            "Distancia 1745\n",
            "Distancia  [0, 1, 15, 16, 14, 6, 4, 8, 41, 23, 9, 40, 24, 21, 39, 22, 38, 29, 30, 32, 28, 27, 2, 3, 17, 35, 36, 37, 5, 10, 25, 11, 12, 18, 26, 13, 19, 7, 31, 20, 33, 34]\n"
          ]
        }
      ]
    },
    {
      "cell_type": "markdown",
      "source": [
        "### Propuesta de mejora de búsqueda local"
      ],
      "metadata": {
        "id": "8b0eBikXvkTS"
      }
    },
    {
      "cell_type": "code",
      "source": [
        "# Genera una solucion VNS reducida\n",
        "def crear_solucion_2(nodos):\n",
        "    solucion = []  # Se elige k <- 1\n",
        "    distancia = 99999999\n",
        "\n",
        "    cont = 0\n",
        "    # Se repite hasta que k = kmax\n",
        "    while cont <= len(nodos):\n",
        "      # Se genera una solucion x'\n",
        "      solucion = crear_solucion(nodos) \n",
        "      # Se vuelve a utilizar la funcion original para crear una solucion aleatoria\n",
        "      # Si la solucion obtenida es mejor, entonces se reemplaza y se vuelve a probar\n",
        "      dist_temp = distancia_total(solucion, problem)\n",
        "      if dist_temp > distancia:\n",
        "        distancia = dist_temp\n",
        "        cont = 1\n",
        "      else:\n",
        "        # En caso no es una mejor solucion, se continua con el ciclo\n",
        "        # solucion = [nodos[0]]\n",
        "        cont += 1\n",
        "\n",
        "    print('No. Iteraciones ', cont)\n",
        "    \n",
        "    return solucion\n",
        "\n",
        "def busqueda_local_2(problem):\n",
        "  mejor_resultado = []\n",
        "\n",
        "  # Se genra una solucion aleatoria\n",
        "  sol_referencia = crear_solucion_2(nodos)\n",
        "  mejor_distancia = distancia_total(sol_referencia, problem)\n",
        "\n",
        "  cont = 0\n",
        "  # Se realiza un loop infinito hasta que se haga un retorno\n",
        "  # (criterio de parada)\n",
        "  while(True):\n",
        "    vecino = genera_vecina(sol_referencia)\n",
        "    distancia = distancia_total(vecino, problem)\n",
        "\n",
        "    # Se comprueba que mejora el resultado\n",
        "    if distancia < mejor_distancia:\n",
        "      mejor_resultado = vecino\n",
        "      mejor_distancia = distancia\n",
        "    \n",
        "    else:\n",
        "      # Cuando ya no tiene a donde mas avanzar\n",
        "      print('Distancia', mejor_distancia)\n",
        "      return mejor_resultado\n",
        "\n",
        "    sol_referencia = vecino\n",
        "\n",
        "# Prueba \n",
        "resultado = busqueda_local_2(problem)\n",
        "print('Resultado ', resultado)"
      ],
      "metadata": {
        "colab": {
          "base_uri": "https://localhost:8080/"
        },
        "id": "AzzYqF0fvsok",
        "outputId": "8bcaf629-9ffc-481f-e94d-40ccabab46d5"
      },
      "execution_count": 35,
      "outputs": [
        {
          "output_type": "stream",
          "name": "stdout",
          "text": [
            "No. Iteraciones  43\n",
            "Distancia 1565\n",
            "Resultado  [0, 26, 5, 13, 19, 14, 16, 15, 37, 17, 31, 36, 35, 20, 33, 34, 32, 30, 29, 10, 25, 8, 9, 23, 41, 11, 12, 18, 4, 27, 28, 38, 22, 24, 40, 21, 39, 2, 3, 6, 1, 7]\n"
          ]
        }
      ]
    },
    {
      "cell_type": "markdown",
      "source": [
        "Como se puede observar arriba, hubo una mejora de 200 de distancia, indicando que el metodo de VNS Reducida, si pudo encontrar una mejor solucion a la búsqueda local con otros operadores de vecindad. Como aqui se trata a fuerza de encontrar una solucion mejor, no quedarse solamente con la primera, sino que ir probando distintas soluciones x' para encontrar la x que de la mejor distancia."
      ],
      "metadata": {
        "id": "Ym24M9gd7TQf"
      }
    },
    {
      "cell_type": "markdown",
      "source": [
        "## Recocido simulado"
      ],
      "metadata": {
        "id": "s7EpugJ7UeMF"
      }
    },
    {
      "cell_type": "code",
      "source": [
        "# Recocido simulado o simulated annealing\n",
        "\n",
        "# Es para generar aleatoriamente un x en el entorno de vecindad de la\n",
        "# la solucion de referencia\n",
        "# No se debe elegir tan aleatorio, sino algo random pero mas dirigido\n",
        "# considerar eso para nodo a,b. Verificar quiza nodos alejados.\n",
        "def genera_vecina_aleatorio(solucion):\n",
        "  #Seleccion de nodos de manera aleatoria\n",
        "  a,b = sorted(random.sample(range(1, len(solucion)), 2))\n",
        "\n",
        "  return solucion[:a] + [solucion[b]] + solucion[a+1:b] + [solucion[a]] + solucion[b+1:]"
      ],
      "metadata": {
        "id": "BR4RwRvtUjvQ"
      },
      "execution_count": 10,
      "outputs": []
    },
    {
      "cell_type": "code",
      "source": [
        "# Maneja probabilidad de transparencia para aceptar peores soluciones\n",
        "def probabilidad(temperatura, delta):\n",
        "  return random.random() < math.exp(-1*delta / temperatura)\n",
        "\n",
        "# Maneja el descenso de temperatura\n",
        "def bajar_temperatura(temperatura):\n",
        "  return temperatura*0.99"
      ],
      "metadata": {
        "id": "HDvWdHI2U5pF"
      },
      "execution_count": 11,
      "outputs": []
    },
    {
      "cell_type": "code",
      "source": [
        "def recocido_simulado(problem, temperatura):\n",
        "  sol_referencia = crear_solucion(nodos)\n",
        "  distancia_referencia = distancia_total(sol_referencia, problem)\n",
        "\n",
        "  solucion = []    # x* del algoritmo\n",
        "  distancia = 9999999999   # F* del algoritmo\n",
        "\n",
        "  n = 0\n",
        "  while temperatura > 0.001:\n",
        "    n += 1\n",
        "    # Aqui se desarrolla la propuesta de mejora\n",
        "    vecino = genera_vecina_aleatorio(sol_referencia)\n",
        "    distancia_vecino = distancia_total(vecino, problem)\n",
        "\n",
        "    # Si es mejor hace el cambio\n",
        "    if distancia_vecino < distancia:\n",
        "      solucion = vecino\n",
        "      distancia = distancia_vecino\n",
        "\n",
        "    # En caso no sea mejor, se realiza el salto por medio\n",
        "    # de la temperatura, cambiando una solucion diferente\n",
        "    if (\n",
        "        distancia_vecino < distancia_referencia \n",
        "        or probabilidad(\n",
        "            temperatura, \n",
        "            abs(distancia_referencia - distancia_vecino)\n",
        "            )\n",
        "        ):\n",
        "      sol_referencia = vecino\n",
        "      distancia_referencia = distancia_vecino\n",
        "\n",
        "    # Se baja la temperatura\n",
        "    temperatura = bajar_temperatura(temperatura)\n",
        "\n",
        "  print(\"mejor distancia \", distancia)\n",
        "  return solucion\n",
        "\n",
        "\n",
        "sol = recocido_simulado(problem, 10000000)\n",
        "print(\"Solucion \", sol)\n",
        "    "
      ],
      "metadata": {
        "colab": {
          "base_uri": "https://localhost:8080/"
        },
        "id": "2ips3kw4WiAV",
        "outputId": "03dad5ae-9107-4736-9744-3293a18b2709"
      },
      "execution_count": 12,
      "outputs": [
        {
          "output_type": "stream",
          "name": "stdout",
          "text": [
            "mejor distancia  2130\n",
            "Solucion  [0, 3, 1, 7, 17, 31, 20, 33, 34, 32, 30, 29, 10, 12, 11, 18, 15, 37, 16, 14, 5, 26, 2, 28, 23, 41, 25, 4, 36, 35, 27, 40, 21, 24, 38, 22, 39, 9, 8, 13, 19, 6]\n"
          ]
        }
      ]
    },
    {
      "cell_type": "markdown",
      "source": [
        "### Oportunidad de mejora de recorrido simulado"
      ],
      "metadata": {
        "id": "Px8CvB0j-kwt"
      }
    },
    {
      "cell_type": "code",
      "source": [
        "def genera_vecina_aleatorio_2(solucion):\n",
        "  #Seleccion de nodos de manera aleatoria, pero se intenta elegir elementos separados\n",
        "  longitud_cuarto = len(solucion)//4\n",
        "  len_ = 0\n",
        "  # se trata que los elementos tengan un criterio de lejania, para expandir busqueda\n",
        "  # entonces se busca que tenga una distancia de 1/4 del tamaño de la lista\n",
        "  while len_ < longitud_cuarto:\n",
        "    a,b = sorted(random.sample(range(1, len(solucion)), 2))\n",
        "    len_ = solucion.index(b) -  solucion.index(a)\n",
        "\n",
        "  return solucion[:a] + [solucion[b]] + solucion[a+1:b] + [solucion[a]] + solucion[b+1:]\n",
        "\n",
        "def recocido_simulado(problem, temperatura):\n",
        "  sol_referencia = crear_solucion(nodos)\n",
        "  distancia_referencia = distancia_total(sol_referencia, problem)\n",
        "\n",
        "  solucion = []    # x* del algoritmo\n",
        "  distancia = 9999999999   # F* del algoritmo\n",
        "\n",
        "  n = 0\n",
        "  while temperatura > 0.001:\n",
        "    n += 1\n",
        "    # Aqui se desarrolla la propuesta de mejora\n",
        "    vecino = genera_vecina_aleatorio_2(sol_referencia)\n",
        "    distancia_vecino = distancia_total(vecino, problem)\n",
        "\n",
        "    # Si es mejor hace el cambio\n",
        "    if distancia_vecino < distancia:\n",
        "      solucion = vecino\n",
        "      distancia = distancia_vecino\n",
        "\n",
        "    # En caso no sea mejor, se realiza el salto por medio\n",
        "    # de la temperatura, cambiando una solucion diferente\n",
        "    if (\n",
        "        distancia_vecino < distancia_referencia \n",
        "        or probabilidad(\n",
        "            temperatura, \n",
        "            abs(distancia_referencia - distancia_vecino)\n",
        "            )\n",
        "        ):\n",
        "      sol_referencia = vecino\n",
        "      distancia_referencia = distancia_vecino\n",
        "\n",
        "    # Se baja la temperatura\n",
        "    temperatura = bajar_temperatura(temperatura)\n",
        "\n",
        "  print(\"mejor distancia \", distancia)\n",
        "  return solucion\n",
        "\n",
        "\n",
        "sol = recocido_simulado(problem, 10000000)\n",
        "print(\"Solucion \", sol)\n",
        "    "
      ],
      "metadata": {
        "colab": {
          "base_uri": "https://localhost:8080/"
        },
        "id": "xbj0Rvl8-hG5",
        "outputId": "62eab26a-3b78-488a-a2ff-55da91af0cbd"
      },
      "execution_count": 80,
      "outputs": [
        {
          "output_type": "stream",
          "name": "stdout",
          "text": [
            "mejor distancia  2226\n",
            "Solucion  [0, 37, 31, 20, 33, 34, 3, 6, 14, 16, 19, 5, 40, 21, 24, 39, 22, 38, 30, 32, 29, 28, 2, 27, 17, 15, 10, 23, 9, 8, 41, 12, 11, 25, 18, 4, 26, 13, 35, 36, 7, 1]\n"
          ]
        }
      ]
    },
    {
      "cell_type": "markdown",
      "source": [
        "Se trato de elegir una elección no tan aleatoria. Se trato de que se buscaran elementos distintos, pero se asegura que son elementos algo alejados. En el caso del algoritmo de *genera_vecina_aleatorio_2* se trato de que hubiera una distancia de al menos 1/4 del tamaño de la lista entre ambos nodos seleccionados, pero se probo acortar o reducir distancias entre elementos, y se noto que mientras más largo la distancia entre ambos nodos, el resultado salia peor, el resultado más cercano a que se obtuvo a la respuesta del algoritmo totalmente aleatorio fue con 1/8, pero ahi se asegura que los elementos estan muy cerca, pero igual no hubo una mejora en el resultando, indicando que con una elección no tan aleatoria, no hubo mejoras."
      ],
      "metadata": {
        "id": "UyWMPB1DMpYT"
      }
    }
  ]
}