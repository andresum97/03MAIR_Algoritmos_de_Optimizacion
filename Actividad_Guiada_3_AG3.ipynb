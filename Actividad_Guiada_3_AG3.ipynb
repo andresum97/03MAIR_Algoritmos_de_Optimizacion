{
  "nbformat": 4,
  "nbformat_minor": 0,
  "metadata": {
    "colab": {
      "provenance": [],
      "authorship_tag": "ABX9TyN8JhleZVQAGk/TZb88R7ZU",
      "include_colab_link": true
    },
    "kernelspec": {
      "name": "python3",
      "display_name": "Python 3"
    },
    "language_info": {
      "name": "python"
    }
  },
  "cells": [
    {
      "cell_type": "markdown",
      "metadata": {
        "id": "view-in-github",
        "colab_type": "text"
      },
      "source": [
        "<a href=\"https://colab.research.google.com/github/andresum97/03MAIR_algoritmos_de_optimizacion/blob/main/Actividad_Guiada_3_AG3.ipynb\" target=\"_parent\"><img src=\"https://colab.research.google.com/assets/colab-badge.svg\" alt=\"Open In Colab\"/></a>"
      ]
    },
    {
      "cell_type": "markdown",
      "source": [
        "# AG3 - Actividad Guiada 3\n",
        "\n",
        "Nombre: Andrés Urízar\n",
        "\n",
        "https://colab.research.google.com/drive/1Sylfi3efLc615xLhlNuGVtc01hfVNyxm?usp=sharing\n",
        "\n",
        "https://github.com/andresum97/03MAIR_algoritmos_de_optimizacion\n"
      ],
      "metadata": {
        "id": "E1bJmUapqqol"
      }
    },
    {
      "cell_type": "markdown",
      "source": [
        "## Carga de librerias\n"
      ],
      "metadata": {
        "id": "LCtcxQeVrLvH"
      }
    },
    {
      "cell_type": "code",
      "source": [
        "!pip install requests    #Hacer llamadas http a paginas de la red\n",
        "!pip install tsplib95    #Modulo para las instancias del problema del TSP"
      ],
      "metadata": {
        "id": "5KwBsnXLrR-i"
      },
      "execution_count": null,
      "outputs": []
    },
    {
      "cell_type": "code",
      "source": [
        "import urllib.request #Hacer llamadas http a paginas de la red\n",
        "import tsplib95       #Modulo para las instancias del problema del TSP\n",
        "import math           #Modulo de funciones matematicas. Se usa para exp\n",
        "import random         #Generar valores aleatorios"
      ],
      "metadata": {
        "id": "HDKn5mtVtaec"
      },
      "execution_count": 8,
      "outputs": []
    },
    {
      "cell_type": "code",
      "source": [
        "#Descargamos el fichero de datos(Matriz de distancias)\n",
        "file = \"swiss42.tsp\" ; \n",
        "urllib.request.urlretrieve(\"http://comopt.ifi.uni-heidelberg.de/software/TSPLIB95/tsp/swiss42.tsp.gz\", file + '.gz')\n",
        "!gzip -d swiss42.tsp.gz     #Descomprimir el fichero de datos "
      ],
      "metadata": {
        "id": "vdZU6ZLctjvn"
      },
      "execution_count": 3,
      "outputs": []
    },
    {
      "cell_type": "code",
      "source": [
        "#Carga de datos y generación de objeto problem\n",
        "###############################################################################\n",
        "problem = tsplib95.load(file) #Datos del fichero\n",
        "\n",
        "#Nodos\n",
        "Nodos = list(problem.get_nodes()) #Tiene funcion definida para obtener nodos\n",
        "\n",
        "#Aristas\n",
        "Aristas = list(problem.get_edges()) #Tiene funcion definida para obtener aristas"
      ],
      "metadata": {
        "id": "d8uNlYAVwUjh"
      },
      "execution_count": 4,
      "outputs": []
    },
    {
      "cell_type": "code",
      "source": [
        "# Funcion para probar\n",
        "\n",
        "#Distancia entre nodos\n",
        "problem.get_weight(0, 3)"
      ],
      "metadata": {
        "colab": {
          "base_uri": "https://localhost:8080/"
        },
        "id": "9A0kaS0gwtel",
        "outputId": "e5a6c2f0-be9c-497e-d318-7de71df43784"
      },
      "execution_count": 6,
      "outputs": [
        {
          "output_type": "execute_result",
          "data": {
            "text/plain": [
              "23"
            ]
          },
          "metadata": {},
          "execution_count": 6
        }
      ]
    },
    {
      "cell_type": "markdown",
      "source": [
        "## Declaración de funciones básicas"
      ],
      "metadata": {
        "id": "yxNQbAYBxPiR"
      }
    },
    {
      "cell_type": "code",
      "source": [
        "# Devuelve la distancia entre dos nodos\n",
        "def distancia(a,b, problem):\n",
        "    return problem.get_weight(a,b)\n",
        "\n",
        "# Genera una solucion aleatoria empezando en el nodo 0\n",
        "def crear_solucion(nodos):\n",
        "    solucion = [nodos[0]]\n",
        "    #en cada paso se elige un elemento no elegido y eliminando el 0 y los que\n",
        "    #hayamos elegido anteriormente\n",
        "    for nodo in nodos[1:]:\n",
        "      solucion += [random.choice(list(set(nodos) - set(solucion)))]\n",
        "    return solucion\n",
        "\n",
        "# Calcula la distancia total de la trayectoria/solucion\n",
        "def distancia_total(solucion, problem):\n",
        "  dist = 0\n",
        "  #recorrer todos los pasos y calcula distancia acumulando las aristas\n",
        "  for i in range(len(solucion)-1):\n",
        "    dist += distancia(solucion[i], solucion[i+1], problem)\n",
        "  return dist + distancia(solucion[len(solucion)-1], solucion[0], problem)\n",
        "\n",
        "solucion = crear_solucion(Nodos)\n",
        "distancia_total(solucion, problem)\n"
      ],
      "metadata": {
        "colab": {
          "base_uri": "https://localhost:8080/"
        },
        "id": "TkbMq5gIxUXA",
        "outputId": "4fef0188-ab12-461e-bf36-92f81ad511b6"
      },
      "execution_count": 13,
      "outputs": [
        {
          "output_type": "execute_result",
          "data": {
            "text/plain": [
              "3973"
            ]
          },
          "metadata": {},
          "execution_count": 13
        }
      ]
    },
    {
      "cell_type": "markdown",
      "source": [
        "## Búsqueda aleatoria"
      ],
      "metadata": {
        "id": "rhxwAQE3z_V9"
      }
    },
    {
      "cell_type": "code",
      "source": [
        "# Busqueda aleatoria\n",
        "\n",
        "def busqueda_aleatoria(problem, n):\n",
        "  nodos = list(problem.get_nodes())\n",
        "\n",
        "  mejor_resultado = []\n",
        "  #Se comienza con un valor alto para que el primer resultado encontrado\n",
        "  #lo reemplace\n",
        "  mejor_distancia = float('inf') \n",
        "\n",
        "  for i in range(n):\n",
        "    resultado = crear_solucion(nodos)    #solucion aleatoria\n",
        "    distancia = distancia_total(solucion, problem) #distancia de solucion aleatoria\n",
        "\n",
        "    if distancia < mejor_distancia:\n",
        "      mejor_resultado = resultado\n",
        "      mejor_distancia = distancia\n",
        "\n",
        "  return mejor_resultado, distancia\n",
        "\n",
        "solucion, dist = busqueda_aleatoria(problem, 5000)\n",
        "print(solucion)\n",
        "print(dist)"
      ],
      "metadata": {
        "colab": {
          "base_uri": "https://localhost:8080/"
        },
        "id": "Bu6RkU0Y0F4C",
        "outputId": "2ba6ccfe-ac9d-413d-89b4-d5ba199ccb39"
      },
      "execution_count": 16,
      "outputs": [
        {
          "output_type": "stream",
          "name": "stdout",
          "text": [
            "[0, 8, 21, 34, 15, 36, 33, 41, 30, 1, 25, 11, 27, 9, 13, 18, 37, 17, 20, 4, 24, 7, 5, 23, 22, 6, 39, 28, 3, 12, 26, 38, 2, 14, 35, 40, 32, 16, 10, 19, 29, 31]\n",
            "4651\n"
          ]
        }
      ]
    },
    {
      "cell_type": "markdown",
      "source": [
        "## Búsqueda local"
      ],
      "metadata": {
        "id": "Vf-ZblpL9WTz"
      }
    },
    {
      "cell_type": "code",
      "source": [],
      "metadata": {
        "id": "TolNOkBG9Z8h"
      },
      "execution_count": null,
      "outputs": []
    }
  ]
}