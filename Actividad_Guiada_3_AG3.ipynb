{
  "nbformat": 4,
  "nbformat_minor": 0,
  "metadata": {
    "colab": {
      "provenance": [],
      "authorship_tag": "ABX9TyOiZQv/F98a9AgpSuT8BQvM",
      "include_colab_link": true
    },
    "kernelspec": {
      "name": "python3",
      "display_name": "Python 3"
    },
    "language_info": {
      "name": "python"
    }
  },
  "cells": [
    {
      "cell_type": "markdown",
      "metadata": {
        "id": "view-in-github",
        "colab_type": "text"
      },
      "source": [
        "<a href=\"https://colab.research.google.com/github/andresum97/03MAIR_algoritmos_de_optimizacion/blob/main/Actividad_Guiada_3_AG3.ipynb\" target=\"_parent\"><img src=\"https://colab.research.google.com/assets/colab-badge.svg\" alt=\"Open In Colab\"/></a>"
      ]
    },
    {
      "cell_type": "markdown",
      "source": [
        "Nombre: Andrés Urízar\n",
        "\n",
        "https://colab.research.google.com/drive/1Sylfi3efLc615xLhlNuGVtc01hfVNyxm?usp=sharing\n",
        "\n",
        "https://github.com/andresum97/03MAIR_algoritmos_de_optimizacion\n"
      ],
      "metadata": {
        "id": "E1bJmUapqqol"
      }
    },
    {
      "cell_type": "markdown",
      "source": [
        "# Carga de librerias\n"
      ],
      "metadata": {
        "id": "LCtcxQeVrLvH"
      }
    },
    {
      "cell_type": "code",
      "source": [
        "!pip install requests    #Hacer llamadas http a paginas de la red\n",
        "!pip install tsplib95    #Modulo para las instancias del problema del TSP"
      ],
      "metadata": {
        "id": "5KwBsnXLrR-i"
      },
      "execution_count": null,
      "outputs": []
    }
  ]
}