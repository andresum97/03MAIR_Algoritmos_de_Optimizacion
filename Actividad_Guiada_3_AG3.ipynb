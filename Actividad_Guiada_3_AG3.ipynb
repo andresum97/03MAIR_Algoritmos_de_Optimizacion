{
  "nbformat": 4,
  "nbformat_minor": 0,
  "metadata": {
    "colab": {
      "provenance": [],
      "authorship_tag": "ABX9TyMEAzZ/bwhLHFfm1IfFFNLC",
      "include_colab_link": true
    },
    "kernelspec": {
      "name": "python3",
      "display_name": "Python 3"
    },
    "language_info": {
      "name": "python"
    }
  },
  "cells": [
    {
      "cell_type": "markdown",
      "metadata": {
        "id": "view-in-github",
        "colab_type": "text"
      },
      "source": [
        "<a href=\"https://colab.research.google.com/github/andresum97/03MAIR_algoritmos_de_optimizacion/blob/main/Actividad_Guiada_3_AG3.ipynb\" target=\"_parent\"><img src=\"https://colab.research.google.com/assets/colab-badge.svg\" alt=\"Open In Colab\"/></a>"
      ]
    },
    {
      "cell_type": "markdown",
      "source": [
        "# AG3 - Actividad Guiada 3\n",
        "\n",
        "Nombre: Andrés Urízar\n",
        "\n",
        "https://colab.research.google.com/drive/1Sylfi3efLc615xLhlNuGVtc01hfVNyxm?usp=sharing\n",
        "\n",
        "https://github.com/andresum97/03MAIR_algoritmos_de_optimizacion\n"
      ],
      "metadata": {
        "id": "E1bJmUapqqol"
      }
    },
    {
      "cell_type": "markdown",
      "source": [
        "## Carga de librerias\n"
      ],
      "metadata": {
        "id": "LCtcxQeVrLvH"
      }
    },
    {
      "cell_type": "code",
      "source": [
        "!pip install requests    #Hacer llamadas http a paginas de la red\n",
        "!pip install tsplib95    #Modulo para las instancias del problema del TSP"
      ],
      "metadata": {
        "id": "5KwBsnXLrR-i",
        "colab": {
          "base_uri": "https://localhost:8080/"
        },
        "outputId": "838f0fa6-036e-4157-c63f-088b44744ca8"
      },
      "execution_count": 1,
      "outputs": [
        {
          "output_type": "stream",
          "name": "stdout",
          "text": [
            "Looking in indexes: https://pypi.org/simple, https://us-python.pkg.dev/colab-wheels/public/simple/\n",
            "Requirement already satisfied: requests in /usr/local/lib/python3.8/dist-packages (2.25.1)\n",
            "Requirement already satisfied: chardet<5,>=3.0.2 in /usr/local/lib/python3.8/dist-packages (from requests) (4.0.0)\n",
            "Requirement already satisfied: idna<3,>=2.5 in /usr/local/lib/python3.8/dist-packages (from requests) (2.10)\n",
            "Requirement already satisfied: certifi>=2017.4.17 in /usr/local/lib/python3.8/dist-packages (from requests) (2022.12.7)\n",
            "Requirement already satisfied: urllib3<1.27,>=1.21.1 in /usr/local/lib/python3.8/dist-packages (from requests) (1.24.3)\n",
            "Looking in indexes: https://pypi.org/simple, https://us-python.pkg.dev/colab-wheels/public/simple/\n",
            "Requirement already satisfied: tsplib95 in /usr/local/lib/python3.8/dist-packages (0.7.1)\n",
            "Requirement already satisfied: Click>=6.0 in /usr/local/lib/python3.8/dist-packages (from tsplib95) (7.1.2)\n",
            "Requirement already satisfied: tabulate~=0.8.7 in /usr/local/lib/python3.8/dist-packages (from tsplib95) (0.8.10)\n",
            "Requirement already satisfied: Deprecated~=1.2.9 in /usr/local/lib/python3.8/dist-packages (from tsplib95) (1.2.13)\n",
            "Requirement already satisfied: networkx~=2.1 in /usr/local/lib/python3.8/dist-packages (from tsplib95) (2.8.8)\n",
            "Requirement already satisfied: wrapt<2,>=1.10 in /usr/local/lib/python3.8/dist-packages (from Deprecated~=1.2.9->tsplib95) (1.14.1)\n"
          ]
        }
      ]
    },
    {
      "cell_type": "code",
      "source": [
        "import urllib.request #Hacer llamadas http a paginas de la red\n",
        "import tsplib95       #Modulo para las instancias del problema del TSP\n",
        "import math           #Modulo de funciones matematicas. Se usa para exp\n",
        "import random         #Generar valores aleatorios"
      ],
      "metadata": {
        "id": "HDKn5mtVtaec"
      },
      "execution_count": 2,
      "outputs": []
    },
    {
      "cell_type": "code",
      "source": [
        "#Descargamos el fichero de datos(Matriz de distancias)\n",
        "file = \"swiss42.tsp\" ; \n",
        "urllib.request.urlretrieve(\"http://comopt.ifi.uni-heidelberg.de/software/TSPLIB95/tsp/swiss42.tsp.gz\", file + '.gz')\n",
        "!gzip -d swiss42.tsp.gz     #Descomprimir el fichero de datos "
      ],
      "metadata": {
        "id": "vdZU6ZLctjvn",
        "colab": {
          "base_uri": "https://localhost:8080/"
        },
        "outputId": "29852399-89a5-47c1-f724-5eabb3b124d0"
      },
      "execution_count": 3,
      "outputs": [
        {
          "output_type": "stream",
          "name": "stdout",
          "text": [
            "gzip: swiss42.tsp already exists; do you wish to overwrite (y or n)? n\n",
            "\tnot overwritten\n"
          ]
        }
      ]
    },
    {
      "cell_type": "code",
      "source": [
        "#Carga de datos y generación de objeto problem\n",
        "###############################################################################\n",
        "problem = tsplib95.load(file) #Datos del fichero\n",
        "\n",
        "#Nodos\n",
        "nodos = list(problem.get_nodes()) #Tiene funcion definida para obtener nodos\n",
        "\n",
        "#Aristas\n",
        "Aristas = list(problem.get_edges()) #Tiene funcion definida para obtener aristas"
      ],
      "metadata": {
        "id": "d8uNlYAVwUjh"
      },
      "execution_count": 4,
      "outputs": []
    },
    {
      "cell_type": "code",
      "source": [
        "# Funcion para probar\n",
        "\n",
        "#Distancia entre nodos\n",
        "problem.get_weight(0, 3)"
      ],
      "metadata": {
        "colab": {
          "base_uri": "https://localhost:8080/"
        },
        "id": "9A0kaS0gwtel",
        "outputId": "c68ceb77-5db8-40e6-dd4d-bb252ee267fb"
      },
      "execution_count": 5,
      "outputs": [
        {
          "output_type": "execute_result",
          "data": {
            "text/plain": [
              "23"
            ]
          },
          "metadata": {},
          "execution_count": 5
        }
      ]
    },
    {
      "cell_type": "markdown",
      "source": [
        "## Declaración de funciones básicas"
      ],
      "metadata": {
        "id": "yxNQbAYBxPiR"
      }
    },
    {
      "cell_type": "code",
      "source": [
        "# Devuelve la distancia entre dos nodos\n",
        "def distancia(a,b, problem):\n",
        "    return problem.get_weight(a,b)\n",
        "\n",
        "# Genera una solucion aleatoria empezando en el nodo 0\n",
        "def crear_solucion(nodos):\n",
        "    solucion = [nodos[0]]\n",
        "    #en cada paso se elige un elemento no elegido y eliminando el 0 y los que\n",
        "    #hayamos elegido anteriormente\n",
        "    #Si hay que quitar el nodo 0 porque si parece afectar la distancia\n",
        "    for nodo in nodos[1:]:\n",
        "      solucion += [random.choice(list(set(nodos) - set({nodos[0]}) - set(solucion)))]\n",
        "    return solucion\n",
        "\n",
        "# Calcula la distancia total de la trayectoria/solucion\n",
        "def distancia_total(solucion, problem):\n",
        "  dist = 0\n",
        "  #recorrer todos los pasos y calcula distancia acumulando las aristas\n",
        "  for i in range(len(solucion)-1):\n",
        "    dist += distancia(solucion[i], solucion[i+1], problem)\n",
        "  return dist + distancia(solucion[len(solucion)-1], solucion[0], problem)\n",
        "\n",
        "solucion = crear_solucion(nodos)\n",
        "distancia_total(solucion, problem)\n"
      ],
      "metadata": {
        "colab": {
          "base_uri": "https://localhost:8080/"
        },
        "id": "TkbMq5gIxUXA",
        "outputId": "44da5d14-1a8f-45af-e966-1f7c922bd6b3"
      },
      "execution_count": 41,
      "outputs": [
        {
          "output_type": "execute_result",
          "data": {
            "text/plain": [
              "4680"
            ]
          },
          "metadata": {},
          "execution_count": 41
        }
      ]
    },
    {
      "cell_type": "markdown",
      "source": [
        "## Búsqueda aleatoria"
      ],
      "metadata": {
        "id": "rhxwAQE3z_V9"
      }
    },
    {
      "cell_type": "code",
      "source": [
        "# Busqueda aleatoria\n",
        "\n",
        "def busqueda_aleatoria(problem, n):\n",
        "  nodos = list(problem.get_nodes())\n",
        "\n",
        "  mejor_resultado = []\n",
        "  #Se comienza con un valor alto para que el primer resultado encontrado\n",
        "  #lo reemplace\n",
        "  mejor_distancia = 999999999\n",
        "\n",
        "  for i in range(n):\n",
        "    resultado = crear_solucion(nodos)    #solucion aleatoria\n",
        "    distancia = distancia_total(solucion, problem) #distancia de solucion aleatoria\n",
        "\n",
        "    if distancia < mejor_distancia:\n",
        "      mejor_resultado = resultado\n",
        "      mejor_distancia = distancia\n",
        "\n",
        "  return mejor_resultado, distancia\n",
        "\n",
        "solucion, dist = busqueda_aleatoria(problem, 5000)\n",
        "print(solucion)\n",
        "print(dist)"
      ],
      "metadata": {
        "colab": {
          "base_uri": "https://localhost:8080/"
        },
        "id": "Bu6RkU0Y0F4C",
        "outputId": "5169b389-d6a6-4540-ce70-e72314ad0d8e"
      },
      "execution_count": 42,
      "outputs": [
        {
          "output_type": "stream",
          "name": "stdout",
          "text": [
            "[0, 18, 21, 38, 11, 9, 12, 14, 5, 19, 37, 24, 36, 16, 29, 31, 34, 6, 25, 35, 13, 27, 30, 40, 3, 20, 26, 32, 2, 28, 33, 4, 22, 1, 8, 10, 17, 39, 23, 41, 15, 7]\n",
            "4680\n"
          ]
        }
      ]
    },
    {
      "cell_type": "markdown",
      "source": [
        "## Búsqueda local"
      ],
      "metadata": {
        "id": "Vf-ZblpL9WTz"
      }
    },
    {
      "cell_type": "markdown",
      "source": [
        "Te quedaste en el minuto 51:58"
      ],
      "metadata": {
        "id": "GZwPidHS-VK4"
      }
    },
    {
      "cell_type": "code",
      "source": [
        "# Busqueda local\n",
        "def genera_vecina(solucion):\n",
        "  mejor_resultado = []\n",
        "  mejor_distancia = 9999999999\n",
        "\n",
        "  # Se intercambian nodos, se comienza por el primer nodo\n",
        "  # y se utiliza el nodo siguiente al seleccionado hasta el final\n",
        "  for i in range(1, len(solucion) - 1):\n",
        "    for j in range(i+1, len(solucion)):\n",
        "      # Se procede a intercambiar nodo i con nodo j\n",
        "      vecino = solucion[:i] + [solucion[j]] + solucion[i+1:j] + [solucion[i]] + solucion[j+1:]\n",
        "\n",
        "      # Calcula la nueva distancia de la solucion obtenida\n",
        "      nueva_distancia = distancia_total(vecino, problem)\n",
        "\n",
        "      # Si es mejor se realiza el intercambio\n",
        "      if nueva_distancia <= mejor_distancia:\n",
        "        mejor_distancia = nueva_distancia\n",
        "        mejor_resultado = vecino\n",
        "\n",
        "  return mejor_resultado\n",
        "\n",
        "print(distancia_total(solucion, problem))\n",
        "nueva_solucion = genera_vecina(solucion)\n",
        "print(distancia_total(nueva_solucion, problem))"
      ],
      "metadata": {
        "id": "TolNOkBG9Z8h",
        "colab": {
          "base_uri": "https://localhost:8080/"
        },
        "outputId": "590fd507-c759-4065-a2f7-3a5a4270625d"
      },
      "execution_count": 35,
      "outputs": [
        {
          "output_type": "stream",
          "name": "stdout",
          "text": [
            "4889\n",
            "4284\n"
          ]
        }
      ]
    },
    {
      "cell_type": "code",
      "source": [
        "#Busqueda local\n",
        "\n",
        "def busqueda_local(problem):\n",
        "  mejor_resultado = []\n",
        "\n",
        "  # Se genra una solucion aleatoria\n",
        "  sol_referencia = crear_solucion(nodos)\n",
        "  mejor_distancia = distancia_total(sol_referencia, problem)\n",
        "\n",
        "  cont = 0\n",
        "  # Se realiza un loop infinito hasta que se haga un retorno\n",
        "  # (criterio de parada)\n",
        "  while(True):\n",
        "    vecino = genera_vecina(sol_referencia)\n",
        "    distancia = distancia_total(vecino, problem)\n",
        "\n",
        "    # Se comprueba que mejora el resultado\n",
        "    if distancia < mejor_distancia:\n",
        "      mejor_resultado = vecino\n",
        "      mejor_distancia = distancia\n",
        "    \n",
        "    else:\n",
        "      # Cuando ya no tiene a donde mas avanzar\n",
        "      print('Distancia', mejor_distancia)\n",
        "      return mejor_resultado\n",
        "\n",
        "    sol_referencia = vecino\n",
        "\n",
        "\n",
        "resultado = busqueda_local(problem)\n",
        "print('Distancia ', resultado)"
      ],
      "metadata": {
        "colab": {
          "base_uri": "https://localhost:8080/"
        },
        "id": "bEB_DHICAra-",
        "outputId": "feb386cb-faf6-468e-f565-27f6210a6129"
      },
      "execution_count": 49,
      "outputs": [
        {
          "output_type": "stream",
          "name": "stdout",
          "text": [
            "Distancia 1785\n",
            "Distancia  [0, 6, 5, 26, 18, 12, 10, 8, 29, 30, 28, 27, 2, 4, 13, 19, 14, 16, 15, 37, 20, 33, 34, 3, 1, 7, 31, 32, 38, 22, 39, 24, 40, 21, 9, 23, 41, 25, 11, 17, 36, 35]\n"
          ]
        }
      ]
    },
    {
      "cell_type": "markdown",
      "source": [
        "## Recocido simulado"
      ],
      "metadata": {
        "id": "s7EpugJ7UeMF"
      }
    },
    {
      "cell_type": "code",
      "source": [
        "# Recocido simulado o simulated annealing\n",
        "\n",
        "# Es para generar aleatoriamente un x en el entorno de vecindad de la\n",
        "# la solucion de referencia\n",
        "# No se debe elegir tan aleatorio, sino algo random pero mas dirigido\n",
        "# considerar eso para nodo a,b. Verificar quiza nodos alejados.\n",
        "def genera_vecina_aleatorio(solucion):\n",
        "  #Seleccion de nodos de manera aleatoria\n",
        "  a,b = sorted(random.sample(range(1, len(solucion)), 2))\n",
        "\n",
        "  return solucion[:a] + [solucion[b]] + solucion[a+1:b] + [solucion[a]] + solucion[b+1:]"
      ],
      "metadata": {
        "id": "BR4RwRvtUjvQ"
      },
      "execution_count": 55,
      "outputs": []
    },
    {
      "cell_type": "code",
      "source": [
        "# Maneja probabilidad de transparencia para aceptar peores soluciones\n",
        "def probabilidad(temperatura, delta):\n",
        "  return random.random() < math.exp(-1*delta / temperatura)\n",
        "\n",
        "# Maneja el descenso de temperatura\n",
        "def bajar_temperatura(temperatura):\n",
        "  return temperatura*0.99"
      ],
      "metadata": {
        "id": "HDvWdHI2U5pF"
      },
      "execution_count": 51,
      "outputs": []
    },
    {
      "cell_type": "code",
      "source": [
        "def recocido_simulado(problem, temperatura):\n",
        "  sol_referencia = crear_solucion(nodos)\n",
        "  distancia_referencia = distancia_total(sol_referencia, problem)\n",
        "\n",
        "  solucion = []    # x* del algoritmo\n",
        "  distancia = 9999999999   # F* del algoritmo\n",
        "\n",
        "  n = 0\n",
        "  while temperatura > 0.001:\n",
        "    n += 1\n",
        "    # Aqui se desarrolla la propuesta de mejora\n",
        "    vecino = genera_vecina_aleatorio(sol_referencia)\n",
        "    distancia_vecino = distancia_total(vecino, problem)\n",
        "\n",
        "    # Si es mejor hace el cambio\n",
        "    if distancia_vecino < distancia:\n",
        "      solucion = vecino\n",
        "      distancia = distancia_vecino\n",
        "\n",
        "    # En caso no sea mejor, se realiza el salto por medio\n",
        "    # de la temperatura, cambiando una solucion diferente\n",
        "    if (\n",
        "        distancia_vecino < distancia_referencia \n",
        "        or probabilidad(\n",
        "            temperatura, \n",
        "            abs(distancia_referencia - distancia_vecino)\n",
        "            )\n",
        "        ):\n",
        "      sol_referencia = vecino\n",
        "      distancia_referencia = distancia_vecino\n",
        "\n",
        "    # Se baja la temperatura\n",
        "    temperatura = bajar_temperatura(temperatura)\n",
        "\n",
        "  print(\"mejor distancia \", distancia)\n",
        "  return solucion\n",
        "\n",
        "\n",
        "sol = recocido_simulado(problem, 10000000)\n",
        "print(\"Solucion \", sol)\n",
        "    "
      ],
      "metadata": {
        "colab": {
          "base_uri": "https://localhost:8080/"
        },
        "id": "2ips3kw4WiAV",
        "outputId": "c3aed162-a903-4491-fcb9-2c45dd5d60eb"
      },
      "execution_count": 58,
      "outputs": [
        {
          "output_type": "stream",
          "name": "stdout",
          "text": [
            "mejor distancia  1811\n",
            "Solucion  [0, 1, 32, 31, 7, 17, 37, 14, 26, 10, 8, 23, 40, 9, 41, 25, 11, 12, 18, 13, 16, 15, 19, 5, 6, 4, 3, 27, 2, 28, 30, 29, 39, 21, 24, 22, 38, 33, 34, 20, 36, 35]\n"
          ]
        }
      ]
    }
  ]
}