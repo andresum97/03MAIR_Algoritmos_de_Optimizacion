{
  "nbformat": 4,
  "nbformat_minor": 0,
  "metadata": {
    "colab": {
      "provenance": [],
      "authorship_tag": "ABX9TyPawzTsSqhfFMgyvynBtCcz",
      "include_colab_link": true
    },
    "kernelspec": {
      "name": "python3",
      "display_name": "Python 3"
    },
    "language_info": {
      "name": "python"
    }
  },
  "cells": [
    {
      "cell_type": "markdown",
      "metadata": {
        "id": "view-in-github",
        "colab_type": "text"
      },
      "source": [
        "<a href=\"https://colab.research.google.com/github/andresum97/03MAIR_algoritmos_de_optimizacion/blob/main/Algoritmos_AG1.ipynb\" target=\"_parent\"><img src=\"https://colab.research.google.com/assets/colab-badge.svg\" alt=\"Open In Colab\"/></a>"
      ]
    },
    {
      "cell_type": "markdown",
      "source": [
        "Nombre: Andrés Urízar <br>\n",
        "https://colab.research.google.com/drive/1smcCprWe06Zg0R8474fTGkb_f0Nw5caZ#scrollTo=zfn0g3HiA6FT\n",
        "<br>\n",
        "https://github.com/andresum97/03MAIR_algoritmos_de_optimizacion.git\n"
      ],
      "metadata": {
        "id": "zfn0g3HiA6FT"
      }
    }
  ]
}