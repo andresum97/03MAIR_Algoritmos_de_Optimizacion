{
  "nbformat": 4,
  "nbformat_minor": 0,
  "metadata": {
    "colab": {
      "provenance": [],
      "authorship_tag": "ABX9TyMojoO8OynBAY1e2jc5rpk8",
      "include_colab_link": true
    },
    "kernelspec": {
      "name": "python3",
      "display_name": "Python 3"
    },
    "language_info": {
      "name": "python"
    }
  },
  "cells": [
    {
      "cell_type": "markdown",
      "metadata": {
        "id": "view-in-github",
        "colab_type": "text"
      },
      "source": [
        "<a href=\"https://colab.research.google.com/github/andresum97/03MAIR_algoritmos_de_optimizacion/blob/main/Algoritmos_AG1.ipynb\" target=\"_parent\"><img src=\"https://colab.research.google.com/assets/colab-badge.svg\" alt=\"Open In Colab\"/></a>"
      ]
    },
    {
      "cell_type": "markdown",
      "source": [
        "Actividad Guiada 1 de Algoritmos de Optimizacion\n",
        "\n",
        "Nombre: Andrés Urízar \n",
        "\n",
        "https://colab.research.google.com/drive/1smcCprWe06Zg0R8474fTGkb_f0Nw5caZ#scrollTo=zfn0g3HiA6FT\n",
        "\n",
        "\n",
        "https://github.com/andresum97/03MAIR_algoritmos_de_optimizacion.git\n"
      ],
      "metadata": {
        "id": "zfn0g3HiA6FT"
      }
    },
    {
      "cell_type": "code",
      "source": [
        "#Torres de Hanoi\n",
        "def Torres_Hanoi(N, desde, hasta):\n",
        "  # N = no. de fichas\n",
        "  # desde = no. poste desde\n",
        "  # hasta = no. poste hasta\n",
        "  if N == 1:\n",
        "    print(\"Lleva la ficha desde \" + str(desde) + \" hasta \" + str(hasta))\n",
        "  else:\n",
        "    Torres_Hanoi(N-1, desde, 6-desde-hasta)\n",
        "    print(\"Lleva la ficha desde \" + str(desde) + \" hasta \" + str(hasta))\n",
        "    Torres_Hanoi(N-1, 6-desde-hasta,  hasta)\n",
        "\n",
        "Torres_Hanoi(3, 1, 3)\n"
      ],
      "metadata": {
        "colab": {
          "base_uri": "https://localhost:8080/"
        },
        "id": "8vlivCdcJQ9D",
        "outputId": "e2024d6f-db65-4cf1-b4c0-5e0abf6b2426"
      },
      "execution_count": null,
      "outputs": [
        {
          "output_type": "stream",
          "name": "stdout",
          "text": [
            "Lleva la ficha desde 1 hasta 3\n",
            "Lleva la ficha desde 1 hasta 2\n",
            "Lleva la ficha desde 3 hasta 2\n",
            "Lleva la ficha desde 1 hasta 3\n",
            "Lleva la ficha desde 2 hasta 1\n",
            "Lleva la ficha desde 2 hasta 3\n",
            "Lleva la ficha desde 1 hasta 3\n"
          ]
        }
      ]
    },
    {
      "cell_type": "code",
      "source": [
        "#Cambio de monedas - Tecnica Voraz\n",
        "def cambio_monedas(cantidad_calcular, sistema_monetario):\n",
        "  solucion = [0 for _ in range(len(sistema_monetario))]\n",
        "  valor_acumulado = 0\n",
        "  for idx, moneda in enumerate(sistema_monetario):\n",
        "    solucion[idx] = int((cantidad_calcular-valor_acumulado)/moneda)\n",
        "    valor_acumulado += solucion[idx]*moneda\n",
        "    if valor_acumulado == cantidad_calcular:\n",
        "      return solucion\n",
        "\n",
        "cambio_monedas(98, [25,10,5,1])"
      ],
      "metadata": {
        "colab": {
          "base_uri": "https://localhost:8080/"
        },
        "id": "TWNb3Ax6WD-M",
        "outputId": "e4c203a2-b20d-41aa-fdb3-186a2baf2e9b"
      },
      "execution_count": null,
      "outputs": [
        {
          "output_type": "execute_result",
          "data": {
            "text/plain": [
              "[3, 2, 0, 3]"
            ]
          },
          "metadata": {},
          "execution_count": 1
        }
      ]
    },
    {
      "cell_type": "code",
      "source": [
        "#N Reinas - Backtracing\n",
        "\n",
        "def es_prometedora(resultado, etapa):\n",
        "  for i in range(etapa+1):\n",
        "    if resultado.count(resultado[i]) > 1:\n",
        "      return False\n",
        "\n",
        "    for j in range(i+1, etapa+1):\n",
        "      if abs(i-j) == abs(resultado[i] - resultado[j]):\n",
        "        return False\n",
        "  return True\n",
        "\n",
        "def reinas(n, solucion=[], etapa=0):\n",
        "  if len(solucion) == 0:\n",
        "    solucion = [0 for _ in range(n)]\n",
        "\n",
        "  for i in range(1, n+1):\n",
        "    solucion[etapa] = i\n",
        "    if es_prometedora(solucion, etapa):\n",
        "      if etapa == n-1:\n",
        "        print(solucion)\n",
        "      else:\n",
        "        reinas(n, solucion, etapa+1)\n",
        "    else:\n",
        "      None\n",
        "\n",
        "    solucion[etapa] = 0\n",
        "  \n",
        "\n",
        "reinas(4, [], 0)"
      ],
      "metadata": {
        "colab": {
          "base_uri": "https://localhost:8080/"
        },
        "id": "_g2XcRhOi6yO",
        "outputId": "f4ec460d-b468-4f3a-88e1-72bb1f533b7e"
      },
      "execution_count": null,
      "outputs": [
        {
          "output_type": "stream",
          "name": "stdout",
          "text": [
            "[2, 4, 1, 3]\n",
            "[3, 1, 4, 2]\n"
          ]
        }
      ]
    },
    {
      "cell_type": "code",
      "source": [
        "# Viaje por el rio - Programacion dinámica\n",
        "\n",
        "import math\n",
        "\n",
        "tarifas = [\n",
        "[0,5,4,3, float(\"inf\"),float(\"inf\"),float(\"inf\")],\n",
        "[float(\"inf\"),0,float(\"inf\"),2,3,float(\"inf\"),11],\n",
        "[float(\"inf\"),float(\"inf\"), 0,1,float(\"inf\"),4,10],\n",
        "[float(\"inf\"),float(\"inf\"),float(\"inf\"), 0,5,6,9],\n",
        "[float(\"inf\"),float(\"inf\"), float(\"inf\"),float(\"inf\"),0,float(\"inf\"),4],\n",
        "[float(\"inf\"),float(\"inf\"), float(\"inf\"),float(\"inf\"),float(\"inf\"),0,3],\n",
        "[float(\"inf\"),float(\"inf\"),float(\"inf\"),float(\"inf\"),float(\"inf\"),float(\"inf\"),0]\n",
        "]\n",
        "\n",
        "# tarifas = [\n",
        "# [0,5,4,3,999,999,999],\n",
        "# [999,0,999,2,3,999,11],\n",
        "# [999,999, 0,1,999,4,10],\n",
        "# [999,999,999, 0,5,6,9],\n",
        "# [999,999, 999,999,0,999,4],\n",
        "# [999,999, 999,999,999,0,3],\n",
        "# [999,999,999,999,999,999,0]\n",
        "# ]\n",
        "\n",
        "def Precios(tarifas):\n",
        "  n = len(tarifas[0])\n",
        "\n",
        "  precios = [ [9999]*n for i in [9999]*n]\n",
        "  ruta = [ [\"\"]*n for i in [\"\"]*n]\n",
        "\n",
        "  for i in range(0, n-1):\n",
        "    ruta[i][i] = i\n",
        "    precios[i][i] = 0\n",
        "    for j in range(i+1, n):\n",
        "      min_ = tarifas[i][j]\n",
        "      ruta[i][j] = i\n",
        "\n",
        "      for k in range(i, j):\n",
        "        if precios[i][k] + tarifas[k][j] < min_:\n",
        "          min_ = min(min_, precios[i][k]+tarifas[k][j])\n",
        "          ruta[i][j] = k\n",
        "        precios[i][j] = min_\n",
        "\n",
        "  return precios, ruta\n",
        "\n",
        "#Determinar la ruta con Recursividad\n",
        "def calcular_ruta(RUTA, desde, hasta):\n",
        "  if desde == hasta:\n",
        "    return \"\" \n",
        "  else:\n",
        "    return str(calcular_ruta( RUTA, desde, RUTA[desde][hasta])) + '=> ' + str(RUTA[desde][hasta])"
      ],
      "metadata": {
        "id": "Wp8Rjxze2ofr"
      },
      "execution_count": 7,
      "outputs": []
    },
    {
      "cell_type": "code",
      "source": [
        "precios, ruta = Precios(tarifas)\n",
        "\n",
        "calcular_ruta(ruta, 0, 6)\n"
      ],
      "metadata": {
        "colab": {
          "base_uri": "https://localhost:8080/",
          "height": 35
        },
        "id": "VMJIN135uVMy",
        "outputId": "9704a657-78fc-4c8e-d803-f0cf6ce1484d"
      },
      "execution_count": null,
      "outputs": [
        {
          "output_type": "execute_result",
          "data": {
            "text/plain": [
              "'=> 0=> 2=> 5'"
            ],
            "application/vnd.google.colaboratory.intrinsic+json": {
              "type": "string"
            }
          },
          "metadata": {},
          "execution_count": 24
        }
      ]
    },
    {
      "cell_type": "markdown",
      "source": [
        "## Practica individual  Dos puntos más cercanos\n"
      ],
      "metadata": {
        "id": "XvHuarwygTxB"
      }
    },
    {
      "cell_type": "code",
      "source": [
        "import random\n",
        "\n",
        "LISTA_1D = [random.randrange(1, 10000) for x in range(1000)]\n",
        "LISTA_2D = [(random.randrange(1, 10000), random.randrange(1, 10000)) for x in range(1000)]\n",
        "LISTA_3D = [(random.randrange(1, 10000), random.randrange(1, 10000), random.randrange(1, 10000)) for x in range(1000)]"
      ],
      "metadata": {
        "id": "WrKK_5Pfg5Ac"
      },
      "execution_count": 26,
      "outputs": []
    },
    {
      "cell_type": "code",
      "source": [
        "#Primer intento: Fuerza Bruta\n",
        "\n",
        "def puntos_cercanos_fuerza_bruta(lista=[]):\n",
        "  p1 = 0\n",
        "  p2 = 0\n",
        "  min = 99999\n",
        "  for i in range(len(lista)):\n",
        "    for j in range(i+1, len(lista)):\n",
        "\n",
        "      temp = math.dist([lista[i]], [lista[j]])\n",
        "      if ((temp < min) and (lista[i] != lista[j])):\n",
        "        min = temp\n",
        "        p1 = lista[i]\n",
        "        p2 = lista[j]\n",
        "\n",
        "  return min,p1,p2\n",
        "\n",
        "\n",
        "\n",
        "puntos_cercanos_fuerza_bruta(LISTA_1D)\n",
        "\n"
      ],
      "metadata": {
        "colab": {
          "base_uri": "https://localhost:8080/"
        },
        "id": "baWBK1tKkAwK",
        "outputId": "7ec626ab-e7d9-4004-e75b-fef2c210bc28"
      },
      "execution_count": 8,
      "outputs": [
        {
          "output_type": "execute_result",
          "data": {
            "text/plain": [
              "(1.0, 2119, 2118)"
            ]
          },
          "metadata": {},
          "execution_count": 8
        }
      ]
    },
    {
      "cell_type": "markdown",
      "source": [
        "Complejidad\n",
        " O(n^2) n cuadrado\n",
        "\n",
        "Definitivamente se puede mejorar, debido que el hecho de se haga n veces cada elemento de la lista, es muy grande para una tarea simple de verificar 2 puntos.\n"
      ],
      "metadata": {
        "id": "oy1InPlJxbto"
      }
    },
    {
      "cell_type": "code",
      "source": [
        "# Segundo intento Divide y Venceras\n",
        "\n",
        "def cercano_medio(lista, n, d):\n",
        "  min_dist = d\n",
        "  lista = sorted(lista)\n",
        "\n",
        "  for i in range(n):\n",
        "    for j in range(i+1, n):\n",
        "      if math.dist([lista[i]], [lista[j]]) < min_dist and lista[i] != lista[j]:\n",
        "        min_dist = math.dist([lista[i]], [lista[j]])\n",
        "  \n",
        "  return min_dist\n",
        "\n",
        "def mas_cercano(lista, n):\n",
        "  if n<=3:\n",
        "    min, _, _ = puntos_cercanos_fuerza_bruta(lista)\n",
        "    return min\n",
        "  mitad = n//2\n",
        "  punto_medio = lista[mitad]\n",
        "  dl = mas_cercano(lista, mitad)\n",
        "  dr = mas_cercano(lista[mitad:], n - mitad)\n",
        "  d = dl if dl < dr else dr\n",
        "  strip = []\n",
        "  for i in range(n):\n",
        "    if abs(lista[i] - punto_medio) < d:\n",
        "      strip.append(lista[i])\n",
        "  return d if d < cercano_medio(strip, len(strip), d) else cercano_medio(strip, len(strip), d)\n",
        "\n",
        "print(mas_cercano(LISTA_1D, len(LISTA_1D)))"
      ],
      "metadata": {
        "id": "pHM-Oxc61Zuq",
        "colab": {
          "base_uri": "https://localhost:8080/"
        },
        "outputId": "1f970920-21cc-430d-901d-05959db02257"
      },
      "execution_count": 23,
      "outputs": [
        {
          "output_type": "stream",
          "name": "stdout",
          "text": [
            "1.0\n"
          ]
        }
      ]
    },
    {
      "cell_type": "markdown",
      "source": [
        "Complejidad: O(nlog(n))\n",
        "\n",
        "Debido que el tiempo se realizan 2 ejecuciones con la mitad de la lista, en el punto de ver el lado más cercano con el lado izquierdo y el lado derecho de la lista original, osea 2T(n/2). A compáración de fuerza bruta si hubo una reducción de la complejidad, pero no creo que se pueda mejorar más, es un tiempo razonable contando que tiene que hacer varias iteraciones concatenadas y recursivas."
      ],
      "metadata": {
        "id": "_2IGMcP0w6dW"
      }
    },
    {
      "cell_type": "code",
      "source": [
        "# Divide y Venceras 2D\n",
        "\n",
        "def dist(p1, p2):\n",
        "    return math.sqrt((p1[0] - p2[0])*(p1[0] - p2[0]) + (p1[1] - p2[1])*(p1[1] - p2[1]))\n",
        "\n",
        "def puntos_cercanos_fuerza_bruta2(lista=[]):\n",
        "  p1 = 0\n",
        "  p2 = 0\n",
        "  min = 99999\n",
        "  for i in range(len(lista)):\n",
        "    for j in range(i+1, len(lista)):\n",
        "\n",
        "      temp = dist(lista[i], lista[j])\n",
        "      if ((temp < min) and (lista[i] != lista[j])):\n",
        "        min = temp\n",
        "        p1 = lista[i]\n",
        "        p2 = lista[j]\n",
        "\n",
        "  return min\n",
        "\n",
        "def cercano_medio2(lista, n, d):\n",
        "  min_dist = d\n",
        "  lista = sorted(lista, key=lambda point: point[1])\n",
        "\n",
        "  for i in range(n):\n",
        "    for j in range(i+1, n):\n",
        "      if (lista[j][1] - lista[i][1]) >= min_dist:\n",
        "        break\n",
        "      if dist(lista[i], lista[j]) < min_dist:\n",
        "        min_dist = dist(lista[i], lista[j])\n",
        "  \n",
        "  return min_dist\n",
        "\n",
        "def mas_cercano2(lista, n):\n",
        "  if n<=3:\n",
        "    min = puntos_cercanos_fuerza_bruta2(lista)\n",
        "    return min\n",
        "\n",
        "  mitad = n//2\n",
        "  punto_medio = lista[mitad]\n",
        "  dl = mas_cercano2(lista, mitad)\n",
        "  dr = mas_cercano2(lista[mitad:], n - mitad)\n",
        "  d = dl if dl < dr else dr\n",
        "  strip = []\n",
        "  for i in range(n):\n",
        "    if abs(lista[i][0] - punto_medio[0]) < d:\n",
        "      strip.append(lista[i])\n",
        "  return d if d < cercano_medio2(strip, len(strip), d) else cercano_medio2(strip, len(strip), d)\n",
        "\n",
        "print(mas_cercano2(LISTA_2D, len(LISTA_2D)))"
      ],
      "metadata": {
        "colab": {
          "base_uri": "https://localhost:8080/"
        },
        "id": "9_WPajM3-Hfo",
        "outputId": "f5bf680c-4745-4060-dca2-81f0b44515de"
      },
      "execution_count": 25,
      "outputs": [
        {
          "output_type": "stream",
          "name": "stdout",
          "text": [
            "10.198039027185569\n"
          ]
        }
      ]
    },
    {
      "cell_type": "code",
      "source": [
        "# Divide y Venceras 3D\n",
        "\n",
        "def dist3(p1, p2):\n",
        "    return math.sqrt((p1[0] - p2[0])*(p1[0] - p2[0]) + (p1[1] - p2[1])*(p1[1] - p2[1]) + (p1[2] - p2[2])*(p1[2] - p2[2]))\n",
        "\n",
        "def puntos_cercanos_fuerza_bruta3(lista=[]):\n",
        "  p1 = 0\n",
        "  p2 = 0\n",
        "  min = 99999\n",
        "  for i in range(len(lista)):\n",
        "    for j in range(i+1, len(lista)):\n",
        "\n",
        "      temp = dist3(lista[i], lista[j])\n",
        "      if ((temp < min) and (lista[i] != lista[j])):\n",
        "        min = temp\n",
        "        p1 = lista[i]\n",
        "        p2 = lista[j]\n",
        "\n",
        "  return min\n",
        "\n",
        "def cercano_medio3(lista, n, d):\n",
        "  min_dist = d\n",
        "  lista = sorted(lista, key=lambda point: point[1])\n",
        "\n",
        "  for i in range(n):\n",
        "    for j in range(i+1, n):\n",
        "      if (lista[j][1] - lista[i][1]) >= min_dist:\n",
        "        break\n",
        "      if dist3(lista[i], lista[j]) < min_dist:\n",
        "        min_dist = dist(lista[i], lista[j])\n",
        "  \n",
        "  return min_dist\n",
        "\n",
        "def mas_cercano3(lista, n):\n",
        "  if n<=3:\n",
        "    min = puntos_cercanos_fuerza_bruta2(lista)\n",
        "    return min\n",
        "\n",
        "  mitad = n//2\n",
        "  punto_medio = lista[mitad]\n",
        "  dl = mas_cercano3(lista, mitad)\n",
        "  dr = mas_cercano3(lista[mitad:], n - mitad)\n",
        "  d = dl if dl < dr else dr\n",
        "  strip = []\n",
        "  for i in range(n):\n",
        "    if abs(lista[i][0] - punto_medio[0]) < d:\n",
        "      strip.append(lista[i])\n",
        "  return d if d < cercano_medio3(strip, len(strip), d) else cercano_medio3(strip, len(strip), d)\n",
        "\n",
        "print(mas_cercano3(LISTA_3D, len(LISTA_3D)))"
      ],
      "metadata": {
        "colab": {
          "base_uri": "https://localhost:8080/"
        },
        "id": "lXBHoWTXE8Ex",
        "outputId": "a0dd0183-120e-4baf-9f13-9375f59987de"
      },
      "execution_count": 27,
      "outputs": [
        {
          "output_type": "stream",
          "name": "stdout",
          "text": [
            "6.4031242374328485\n"
          ]
        }
      ]
    }
  ]
}